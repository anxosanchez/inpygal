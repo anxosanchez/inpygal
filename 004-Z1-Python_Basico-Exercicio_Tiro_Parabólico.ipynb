{
 "cells": [
  {
   "cell_type": "markdown",
   "metadata": {},
   "source": [
    "# Problema do tiro parabólico"
   ]
  },
  {
   "cell_type": "markdown",
   "metadata": {},
   "source": [
    "## Introdución"
   ]
  },
  {
   "cell_type": "markdown",
   "metadata": {},
   "source": [
    "    Éste exemplo é moi sinxelo, e permite introducir o seguinte, O DO salto de la rá, que e algo mais complexo.\n",
    "\n",
    "Trátase de adiviñar a velocidade necesaria para lanzar un proxectil cun determinado ángulo a unha determinada distancia. Anque éste problema admite unha solución analítica, nos imos usar un método numérico, que é moi similar ó que se emprega de contío neste tipo de problemas de solución de ecuacións diferencias de contorno (nos que a solución pode non ser tan fácil de atopar)."
   ]
  },
  {
   "cell_type": "markdown",
   "metadata": {},
   "source": [
    "## Implementación"
   ]
  },
  {
   "cell_type": "markdown",
   "metadata": {},
   "source": [
    "Empézase creando a función principal, `main()`, logo todas as demais que fagan falla, e imos implementando dende a miss sixela á miss complexa, repetindo o proceso para cada unha delas.\n",
    "\n",
    "Lembra non comenzar a implementar unha función ata no teres rematado ca anterior."
   ]
  },
  {
   "cell_type": "code",
   "execution_count": 3,
   "metadata": {},
   "outputs": [],
   "source": [
    "import math\n",
    "\n",
    "G = 9.81 # aceleración da gravedade"
   ]
  },
  {
   "cell_type": "markdown",
   "metadata": {},
   "source": [
    "### main()"
   ]
  },
  {
   "cell_type": "code",
   "execution_count": 4,
   "metadata": {},
   "outputs": [],
   "source": [
    "def main(angulo=45, rel_tol=1E-3):\n",
    "    # O primero é converte-lo ángulo a radiáns\n",
    "    angulo = math.radians(angulo)\n",
    "\n",
    "    # O método baséase en saber onde acertamos o disparo anterior,\n",
    "    # e onde acertamos esta. Con esto estimamos a velocidade para o seguinte disparo\n",
    "    # Por tanto, necesítanse unhas condicións iniciais para empezar\n",
    "    v0, d0, v1, d1 = init(angulo)\n",
    "\n",
    "    # Pedimos a distancia por teclado\n",
    "    d = float(input('Onde anda o obxectivo? '))\n",
    "\n",
    "    # Iteramos ata atopar unha solucion\n",
    "    while abs(d1 - d) / d > rel_tol:\n",
    "        v0, d0, v1, d1 = bissection(v0, d0, v1, d1, angulo, d)\n",
    "    \n",
    "    # A imprimimos\n",
    "    print('v = {} m/s -> d = {} m'.format(v1, d1))"
   ]
  },
  {
   "cell_type": "markdown",
   "metadata": {},
   "source": [
    "Por tanto temos dúas funcións que debemos implementar:\n",
    "\n",
    "* `init()`\n",
    "* `bissection`\n",
    "\n",
    "Non cabe a menor duda de que `init()` vai ser a mais sixela."
   ]
  },
  {
   "cell_type": "markdown",
   "metadata": {},
   "source": [
    "### init()"
   ]
  },
  {
   "cell_type": "code",
   "execution_count": 5,
   "metadata": {},
   "outputs": [],
   "source": [
    "def init(angulo):\n",
    "    # O primeiro tiro pode ir a ningures\n",
    "    v0, d0 = 0.0, 0.0\n",
    "    # E o segundo tiro, por exemplo a 1 m/s\n",
    "    v1 = 1.0\n",
    "    d1 = tiro(angulo, v1)\n",
    "    \n",
    "    return v0, d0, v1, d1"
   ]
  },
  {
   "cell_type": "markdown",
   "metadata": {},
   "source": [
    "a nosa nova función require dunha función, `tiro()` que faga de solver para un determinado tiro parabólico. Pode ser discutible se á mais complexa que `bissection`, pero, en principio, parece valer."
   ]
  },
  {
   "cell_type": "markdown",
   "metadata": {},
   "source": [
    "### tiro()"
   ]
  },
  {
   "cell_type": "code",
   "execution_count": 6,
   "metadata": {},
   "outputs": [],
   "source": [
    "def tiro(angulo, v):\n",
    "    # O primeiro é obte-las compoñentes x e y da velocidade\n",
    "    vx, vy = v * math.cos(angulo), v * math.sin(angulo)\n",
    "\n",
    "    # Con esto pódese sacar o tiempo de vó\n",
    "    t = 2 * vy / G\n",
    "\n",
    "    # E o alcance\n",
    "    return vx * t"
   ]
  },
  {
   "cell_type": "markdown",
   "metadata": {},
   "source": [
    "### bissection()"
   ]
  },
  {
   "cell_type": "code",
   "execution_count": 7,
   "metadata": {},
   "outputs": [],
   "source": [
    "def bissection(x_a, f_a, x_b, f_b, angulo, f):\n",
    "    # Reordenamos se e necesario\n",
    "    if f_a > f_b:\n",
    "        x_a, f_a, x_b, f_b = x_b, f_b, x_a, f_a\n",
    "    \n",
    "    # Obtnemos unha nova aproximación para a velocidade\n",
    "    if f_a < f < f_b:\n",
    "        x_c = 0.5 * (x_a + x_b)\n",
    "    else:\n",
    "        x_c = 2.0 * x_b\n",
    "    \n",
    "    # E o alcance correspodente\n",
    "    f_c = tiro(angulo, x_c)\n",
    "\n",
    "    # E comprobamos en que subintervalo está\n",
    "    if f_c > f:\n",
    "        return x_a, f_a, x_c, f_c\n",
    "    return x_b, f_b, x_c, f_c"
   ]
  },
  {
   "cell_type": "markdown",
   "metadata": {},
   "source": [
    "## Disparamos!"
   ]
  },
  {
   "cell_type": "code",
   "execution_count": 9,
   "metadata": {},
   "outputs": [
    {
     "name": "stdin",
     "output_type": "stream",
     "text": [
      "Onde anda o obxectivo?  12000\n"
     ]
    },
    {
     "name": "stdout",
     "output_type": "stream",
     "text": [
      "v = 343.25 m/s -> d = 12010.25101936799 m\n"
     ]
    }
   ],
   "source": [
    "main()"
   ]
  },
  {
   "cell_type": "markdown",
   "metadata": {},
   "source": [
    "---"
   ]
  },
  {
   "cell_type": "markdown",
   "metadata": {},
   "source": [
    "_Nesta clase temos visto cómo crear funcións que encapsulen tarefas do noso programa e as aplicamos para respondernos certas cuestións sixelas._\n",
    "\n",
    "**Referencias**\n",
    "\n",
    "* Libro \"Learn Python the Hard Way\" http://learnpythonthehardway.org/book/\n",
    "* Python Tutor, para visualizar código Python paso a paso http://pythontutor.com/\n",
    "* Libro \"How To Think Like a Computer Scientist\" http://interactivepython.org/runestone/static/thinkcspy/toc.html\n",
    "* Project Euler: ejercicios para aprender Python https://projecteuler.net/problems\n",
    "* Python Challenge (!) http://www.pythonchallenge.com/"
   ]
  },
  {
   "cell_type": "markdown",
   "metadata": {},
   "source": [
    "---\n",
    "Este Tutorial está baseado no feito polo grupo de __Aeropython__\n",
    "\n",
    "#### <h7 align=\"right\">¡Ségeos en Twitter!\n",
    "<br/>\n",
    "###### <a href=\"https://twitter.com/AeroPython\" class=\"twitter-follow-button\" data-show-count=\"false\">Follow @AeroPython</a> <script>!function(d,s,id){var js,fjs=d.getElementsByTagName(s)[0],p=/^http:/.test(d.location)?'http':'https';if(!d.getElementById(id)){js=d.createElement(s);js.id=id;js.src=p+'://platform.twitter.com/widgets.js';fjs.parentNode.insertBefore(js,fjs);}}(document, 'script', 'twitter-wjs');</script> \n",
    "<br/>\n",
    "###### O notebook orixinal foi realizado por: Juan Luis Cano, Mabel Delgado y Álex Sáez \n",
    "<br/>\n",
    "##### <a rel=\"license\" href=\"http://creativecommons.org/licenses/by/4.0/deed.es\"><img alt=\"Licencia Creative Commons\" style=\"border-width:0\" src=\"http://i.creativecommons.org/l/by/4.0/88x31.png\" /></a><br /><span xmlns:dct=\"http://purl.org/dc/terms/\" property=\"dct:title\">Curso AeroPython</span> por <span xmlns:cc=\"http://creativecommons.org/ns#\" property=\"cc:attributionName\">Juan Luis Cano Rodriguez y Alejandro Sáez Mollejo</span> e distribúese baixo unha <a rel=\"license\" href=\"http://creativecommons.org/licenses/by/4.0/deed.es\">Licenza Creative Commons Atribución 4.0 Internacional</a>."
   ]
  },
  {
   "cell_type": "markdown",
   "metadata": {},
   "source": [
    "_As seguintes celas conteñen a configuración do Notebook_\n",
    "\n",
    "_Para visualizalas e usar os enlaces a Twitter e notebook debe executarse coma [seguro](http://ipython.org/ipython-doc/dev/notebook/security.html)_\n",
    "\n",
    "    File > Trusted Notebookr los enlaces a Twitter el notebook debe ejecutarse como [seguro](http://ipython.org/ipython-doc/dev/notebook/security.html)_\n",
    "\n",
    "    File > Trusted Notebook"
   ]
  },
  {
   "cell_type": "code",
   "execution_count": 11,
   "metadata": {},
   "outputs": [
    {
     "data": {
      "text/html": [
       "/* This template is inspired in the one used by Lorena Barba\n",
       "in the numerical-mooc repository: https://github.com/numerical-mooc/numerical-mooc\n",
       "We thank her work and hope you also enjoy the look of the notobooks with this style */\n",
       "\n",
       "<link href='http://fonts.googleapis.com/css?family=Source+Sans+Pro|Josefin+Sans:400,700,400italic|Ubuntu+Condensed' rel='stylesheet' type='text/css'>\n",
       "\n",
       "El estilo se ha aplicado =)\n",
       "\n",
       "<style>\n",
       "\n",
       "\n",
       "\n",
       "#notebook_panel { /* main background */\n",
       "    background: #f7f7f7;\n",
       "}\n",
       "\n",
       "div.cell { /* set cell width */\n",
       "    width: 900px;\n",
       "}\n",
       "\n",
       "div #notebook { /* centre the content */\n",
       "    background: #fff; /* white background for content */\n",
       "    width: 950px;\n",
       "    margin: auto;\n",
       "    padding-left: 0em;\n",
       "}\n",
       "\n",
       "#notebook li { /* More space between bullet points */\n",
       "    margin-top:0.7em;\n",
       "}\n",
       "\n",
       "/* draw border around running cells */\n",
       "div.cell.border-box-sizing.code_cell.running { \n",
       "    border: 1px solid #111;\n",
       "}\n",
       "\n",
       "/* Put a solid color box around each cell and its output, visually linking them*/\n",
       "div.cell.code_cell {\n",
       "    font-family: 'Source Sans Pro', sans-serif;\n",
       "    background-color: rgb(256,256,256);\n",
       "    font-size: 110%;\n",
       "    border-radius: 0px; \n",
       "    padding: 0.5em;\n",
       "    margin-left:1em;\n",
       "    margin-top: 1em;\n",
       "}\n",
       "\n",
       "div.text_cell_render{\n",
       "    font-family: 'Josefin Sans', serif;\n",
       "    line-height: 145%;\n",
       "    font-size: 125%;\n",
       "    font-weight: 500;\n",
       "    width:750px;\n",
       "    margin-left:auto;\n",
       "    margin-right:auto;\n",
       "}\n",
       "\n",
       "\n",
       "/* Formatting for header cells */\n",
       ".text_cell_render h1, .text_cell_render h2, .text_cell_render h3,\n",
       ".text_cell_render h4, .text_cell_render h5 {\n",
       "    font-family: 'Ubuntu Condensed', sans-serif;\n",
       "}\n",
       "/*\n",
       ".text_cell_render h1 {\n",
       "    font-family: Flux, 'Ubuntu Condensed', serif;\n",
       "    font-style:regular;\n",
       "    font-weight: 400;    \n",
       "    font-size: 30pt;\n",
       "    text-align: center;\n",
       "    line-height: 100%;\n",
       "    color: #335082;\n",
       "    margin-bottom: 0.5em;\n",
       "    margin-top: 0.5em;\n",
       "    display: block;\n",
       "}\n",
       "*/\n",
       ".text_cell_render h1 {\n",
       "    font-weight: 600;\n",
       "    font-size: 35pt;\n",
       "    line-height: 100%;\n",
       "    color: #000000;\n",
       "    margin-bottom: 0.1em;\n",
       "    margin-top: 0.3em;\n",
       "    display: block;\n",
       "}\n",
       "\n",
       ".text_cell_render h2 {\n",
       "    margin-top:16px;\n",
       "    font-size: 27pt;\n",
       "    font-weight: 550;\n",
       "    margin-bottom: 0.1em;\n",
       "    margin-top: 0.3em;\n",
       "    font-style: regular;\n",
       "    color: #2c6391;\n",
       "}\t\n",
       "\n",
       ".text_cell_render h3 {\n",
       "    font-size: 20pt;\n",
       "    font-weight: 550\n",
       "    text-align: left;\n",
       "    margin-bottom: 0.1em;\n",
       "    margin-top: 0.3em;\n",
       "    font-style: regular;\n",
       "    color:  #387eb8;\n",
       "}\n",
       "\n",
       ".text_cell_render h4 {    /*Use this for captions*/\n",
       "    font-size: 18pt;\n",
       "    font-weight: 450\n",
       "    text-align: left;\n",
       "    margin-bottom: 0.1em;\n",
       "    margin-top: 0.3em;\n",
       "    font-style: regular;\n",
       "    color:  #5797cc;\n",
       "}\n",
       "\n",
       ".text_cell_render h5 {  /*Use this for small titles*/\n",
       "    font-size: 18pt;\n",
       "    font-weight: 550;\n",
       "    color: rgb(163,0,0);\n",
       "    font-style: italic;\n",
       "    margin-bottom: .1em;\n",
       "    margin-top: 0.8em;\n",
       "    display: block;\n",
       "    color:  #b21c0d;\n",
       "}\n",
       "\n",
       ".text_cell_render h6 { /*use this for copyright note*/\n",
       "    font-family: 'Ubuntu Condensed', sans-serif;\n",
       "    font-weight: 300;\n",
       "    font-size: 14pt;\n",
       "    line-height: 100%;\n",
       "    color: #252525;\n",
       "    text-align: right;\n",
       "    margin-bottom: 1px;\n",
       "    margin-top: 1px;\n",
       "}\n",
       "\n",
       ".CodeMirror{\n",
       "        font-family: 'Duru Sans', sans-serif;\n",
       "        font-size: 100%;\n",
       "}\n",
       "\n",
       "</style>\n",
       "<script>\n",
       "    MathJax.Hub.Config({\n",
       "                        TeX: {\n",
       "                           extensions: [\"AMSmath.js\"],\n",
       "                           equationNumbers: { autoNumber: \"AMS\", useLabelIds: true}\n",
       "                           },\n",
       "                tex2jax: {\n",
       "                    inlineMath: [ ['$','$'], [\"\\\\(\",\"\\\\)\"] ],\n",
       "                    displayMath: [ ['$$','$$'], [\"\\\\[\",\"\\\\]\"] ]\n",
       "                },\n",
       "                displayAlign: 'center', // Change this to 'center' to center equations.\n",
       "                \"HTML-CSS\": {\n",
       "                    styles: {'.MathJax_Display': {\"margin\": 4}}\n",
       "                }\n",
       "        });\n",
       "</script>\n"
      ],
      "text/plain": [
       "<IPython.core.display.HTML object>"
      ]
     },
     "execution_count": 11,
     "metadata": {},
     "output_type": "execute_result"
    }
   ],
   "source": [
    "# Esta cela da o estilo ó notebook\n",
    "from IPython.core.display import HTML\n",
    "css_file = '../styles/aeropython.css'\n",
    "HTML(open(css_file, \"r\").read())"
   ]
  }
 ],
 "metadata": {
  "anaconda-cloud": {},
  "kernelspec": {
   "display_name": "Python 3",
   "language": "python",
   "name": "python3"
  },
  "language_info": {
   "codemirror_mode": {
    "name": "ipython",
    "version": 3
   },
   "file_extension": ".py",
   "mimetype": "text/x-python",
   "name": "python",
   "nbconvert_exporter": "python",
   "pygments_lexer": "ipython3",
   "version": "3.8.2"
  }
 },
 "nbformat": 4,
 "nbformat_minor": 4
}
