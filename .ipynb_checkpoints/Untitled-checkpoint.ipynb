{
 "cells": [
  {
   "cell_type": "markdown",
   "id": "463f1b94",
   "metadata": {},
   "source": [
    "Usar varios métodos numericos para calcular o volumen molar do amoníaco a unha temperatura de 400 K e 12 Mpa de presión. Para este gas, Tc = 406.5 K, e Pc = 11.27 MPa, R = 8.314 cm<sup>3</sup>·MPa·mol<sup>-1</sup>·K<sup>-1</sup>. "
   ]
  },
  {
   "cell_type": "markdown",
   "id": "c81cf3e8",
   "metadata": {},
   "source": [
    "### Algoritmo de punto fixo\n",
    "### [V_1,V_2] intervalo de búsca\n",
    "### error = tolerancia"
   ]
  },
  {
   "cell_type": "code",
   "execution_count": null,
   "id": "29138822",
   "metadata": {},
   "outputs": [],
   "source": [
    "import numpy as np"
   ]
  },
  {
   "cell_type": "code",
   "execution_count": 68,
   "id": "e282cb73",
   "metadata": {},
   "outputs": [],
   "source": [
    "def puntofixo(gV, V_1):\n",
    "    i = 1 # iteración\n",
    "    tolerancia = 0.00001\n",
    "    max_iteracions = 25\n",
    "    V_2 = gV(V_1)\n",
    "    tramo = abs(V_2 - V_1)\n",
    "    while(tramo >= tolerancia and i <= max_iteracions ):\n",
    "        V_1 = V_2\n",
    "        V_2 = gV(V_1)\n",
    "        tramo = abs(V_2 - V_1)\n",
    "        i = i + 1\n",
    "    resposta = V_2\n",
    "    \n",
    "    # Validar resposta\n",
    "    if (i >= max_iteracions):\n",
    "        resposta = np.nan\n",
    "    return(resposta)"
   ]
  },
  {
   "cell_type": "code",
   "execution_count": 69,
   "id": "d51d4792",
   "metadata": {},
   "outputs": [],
   "source": [
    "# INGRESO\n",
    "fV = lambda V: ( P + a / V ** 2 ) - R * T / ( V - b )\n",
    "gV = lambda V: b + R * T / ( P + a / V ** 2)"
   ]
  },
  {
   "cell_type": "code",
   "execution_count": 70,
   "id": "008d7709",
   "metadata": {},
   "outputs": [],
   "source": [
    "# PROGRAMA ---------\n",
    "\n",
    "# DATOS DO PROBLEMA (AMONIACO)\n",
    "nome = 'amoníaco'\n",
    "T = 400    # K\n",
    "P = 12     # MPa\n",
    "Tc = 406.5 # K\n",
    "Pc = 11.27 # MPa\n",
    "R = 8.134  # cm3 MPa / (mol K)\n",
    "a = 27 / 64 * ( R ** 2 * Tc ** 2 / Pc ** 2)\n",
    "b = 1 / 8 * R * Tc / Pc\n"
   ]
  },
  {
   "cell_type": "code",
   "execution_count": 110,
   "id": "bf2eef96",
   "metadata": {},
   "outputs": [
    {
     "name": "stdout",
     "output_type": "stream",
     "text": [
      "O volume molar do gas amoníaco é de 298.925 cm3\n"
     ]
    }
   ],
   "source": [
    "# PROCEDEMENTO\n",
    "\n",
    "solucion_puntofixo = puntofixo(gV,1e-10)\n",
    "\n",
    "# SAIDA\n",
    "print('O volume molar do gas {:s} é de {:6.3f} cm3'.format(nome, solucion_puntofixo))"
   ]
  },
  {
   "cell_type": "markdown",
   "id": "a17d077e",
   "metadata": {},
   "source": [
    "Algoritmo do método da bisección¶\n",
    "[V_1,V_2] intervalo de búsca\n",
    "error = tolerancia\n",
    "\n",
    "scipy.optimize.bisect\n",
    "scipy.optimize.bisect(f, a, b, args=(), xtol=2e-12, rtol=8.881784197001252e-16, maxiter=100, full_output=False, disp=True)"
   ]
  },
  {
   "cell_type": "code",
   "execution_count": 126,
   "id": "e885fb34",
   "metadata": {},
   "outputs": [],
   "source": [
    "def vdW(V):\n",
    "    return ( P + a / V ** 2 ) * ( V - b ) - R * T"
   ]
  },
  {
   "cell_type": "code",
   "execution_count": 112,
   "id": "574c89d0",
   "metadata": {},
   "outputs": [
    {
     "name": "stdout",
     "output_type": "stream",
     "text": [
      "O volume molar do gas ideal amoníaco é de 271.133 cm3\n"
     ]
    }
   ],
   "source": [
    "V_guess = R * T / P\n",
    "print('O volume molar do gas ideal {:s} é de {:6.3f} cm3'.format(nome, V_guess))"
   ]
  },
  {
   "cell_type": "code",
   "execution_count": 113,
   "id": "fbb00441",
   "metadata": {},
   "outputs": [],
   "source": [
    "from scipy.optimize import bisect"
   ]
  },
  {
   "cell_type": "code",
   "execution_count": 114,
   "id": "c13ff020",
   "metadata": {},
   "outputs": [],
   "source": [
    "solucion_bisect = bisect(vdW,100,300,xtol=1e-6,maxiter=100)"
   ]
  },
  {
   "cell_type": "code",
   "execution_count": 115,
   "id": "94399a99",
   "metadata": {},
   "outputs": [
    {
     "data": {
      "text/plain": [
       "298.9253856241703"
      ]
     },
     "execution_count": 115,
     "metadata": {},
     "output_type": "execute_result"
    }
   ],
   "source": [
    "solucion_bisect"
   ]
  },
  {
   "cell_type": "code",
   "execution_count": 143,
   "id": "6a11e982",
   "metadata": {},
   "outputs": [
    {
     "name": "stdout",
     "output_type": "stream",
     "text": [
      "O volume molar do gas amoníaco é de 298.925386 cm3\n"
     ]
    }
   ],
   "source": [
    "print('O volume molar do gas {:s} é de {:10.6f} cm3'.format(nome, solucion_bisect)) "
   ]
  },
  {
   "cell_type": "markdown",
   "id": "c2ac9373",
   "metadata": {},
   "source": [
    "### Métodos scipy.root_scalar\n",
    "scipy.optimize.root_scalar\n",
    "scipy.optimize.root_scalar(f, args=(), method=None, bracket=None, fprime=None, fprime2=None, x0=None, x1=None, xtol=None, rtol=None, maxiter=None, options=None)[source]¶"
   ]
  },
  {
   "cell_type": "code",
   "execution_count": 122,
   "id": "dbfe7787",
   "metadata": {},
   "outputs": [],
   "source": [
    "from scipy.optimize import root_scalar"
   ]
  },
  {
   "cell_type": "code",
   "execution_count": 138,
   "id": "5e151a16",
   "metadata": {},
   "outputs": [],
   "source": [
    "solucion_brentq = root_scalar(vdW, method = 'brentq', bracket = [100,300])"
   ]
  },
  {
   "cell_type": "code",
   "execution_count": 140,
   "id": "13548ca0",
   "metadata": {},
   "outputs": [
    {
     "data": {
      "text/plain": [
       "      converged: True\n",
       "           flag: 'converged'\n",
       " function_calls: 5\n",
       "     iterations: 4\n",
       "           root: 298.92538557771263"
      ]
     },
     "execution_count": 140,
     "metadata": {},
     "output_type": "execute_result"
    }
   ],
   "source": [
    "solucion_brentq"
   ]
  },
  {
   "cell_type": "code",
   "execution_count": 149,
   "id": "fa08ac9b",
   "metadata": {},
   "outputs": [
    {
     "name": "stdout",
     "output_type": "stream",
     "text": [
      "O volume molar do gas amoníaco é de 298.925386 cm3\n"
     ]
    }
   ],
   "source": [
    "print('O volume molar do gas {:s} é de {:10.6f} cm3'.format(nome, solucion_brentq.root)) "
   ]
  },
  {
   "cell_type": "code",
   "execution_count": 85,
   "id": "2937beae",
   "metadata": {},
   "outputs": [],
   "source": [
    "from scipy.optimize import fsolve"
   ]
  },
  {
   "cell_type": "code",
   "execution_count": 145,
   "id": "f93002b8",
   "metadata": {},
   "outputs": [],
   "source": [
    "solucion_fsolve = fsolve(vdW,V_guess)"
   ]
  },
  {
   "cell_type": "code",
   "execution_count": 146,
   "id": "98c13196",
   "metadata": {},
   "outputs": [
    {
     "data": {
      "text/plain": [
       "array([298.92538558])"
      ]
     },
     "execution_count": 146,
     "metadata": {},
     "output_type": "execute_result"
    }
   ],
   "source": [
    "solucion_fsolve"
   ]
  },
  {
   "cell_type": "code",
   "execution_count": 148,
   "id": "5cdcede2",
   "metadata": {},
   "outputs": [
    {
     "name": "stdout",
     "output_type": "stream",
     "text": [
      "O volume molar do gas amoníaco é de 298.925386 cm3\n"
     ]
    }
   ],
   "source": [
    "# SAIDA\n",
    "print('O volume molar do gas {:s} é de {:10.6f} cm3'.format(nome, solucion_fsolve[0]))"
   ]
  }
 ],
 "metadata": {
  "kernelspec": {
   "display_name": "Python 3 (ipykernel)",
   "language": "python",
   "name": "python3"
  },
  "language_info": {
   "codemirror_mode": {
    "name": "ipython",
    "version": 3
   },
   "file_extension": ".py",
   "mimetype": "text/x-python",
   "name": "python",
   "nbconvert_exporter": "python",
   "pygments_lexer": "ipython3",
   "version": "3.10.2"
  }
 },
 "nbformat": 4,
 "nbformat_minor": 5
}
