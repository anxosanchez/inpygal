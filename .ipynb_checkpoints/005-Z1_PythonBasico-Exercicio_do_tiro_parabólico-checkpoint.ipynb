{
 "cells": [
  {
   "cell_type": "markdown",
   "metadata": {},
   "source": [
    "# Problema do tiro parabólico"
   ]
  },
  {
   "cell_type": "markdown",
   "metadata": {},
   "source": [
    "## Introdución"
   ]
  },
  {
   "cell_type": "markdown",
   "metadata": {},
   "source": [
    "    Éste exemplo é moi sinxelo, e permite introducir o seguinte, O DO salto de la rá, que e algo mais complexo.\n",
    "\n",
    "Trátase de adiviñar a velocidade necesaria para lanzar un proxectil cun determinado ángulo a unha determinada distancia. Anque éste problema admite unha solución analítica, nos imos usar un método numérico, que é moi similar ó que se emprega de contío neste tipo de problemas de solución de ecuacións diferencias de contorno (nos que a solución pode non ser tan fácil de atopar)."
   ]
  },
  {
   "cell_type": "markdown",
   "metadata": {},
   "source": [
    "## Implementación"
   ]
  },
  {
   "cell_type": "markdown",
   "metadata": {},
   "source": [
    "Empézase creando a función principal, `main()`, logo todas as demais que fagan falla, e imos implementando dende a miss sixela á miss complexa, repetindo o proceso para cada unha delas.\n",
    "\n",
    "Lembra non comenzar a implementar unha función ata no teres rematado ca anterior."
   ]
  },
  {
   "cell_type": "code",
   "execution_count": 1,
   "metadata": {},
   "outputs": [],
   "source": [
    "import math\n",
    "\n",
    "G = 9.81"
   ]
  },
  {
   "cell_type": "markdown",
   "metadata": {},
   "source": [
    "### main()"
   ]
  },
  {
   "cell_type": "code",
   "execution_count": 2,
   "metadata": {},
   "outputs": [],
   "source": [
    "def main(angulo=45, rel_tol=1E-3):\n",
    "    # O primero é converte-lo ángulo a radiáns\n",
    "    angulo = math.radians(angulo)\n",
    "\n",
    "    # O método baséase en saber onde acertamos o disparo anterior,\n",
    "    # e onde acertamos esta. Con esto estimamos a velocidade para o seguinte disparo\n",
    "    # Por tanto, necesítanse unhas condicións iniciais para empezar\n",
    "    v0, d0, v1, d1 = init(angulo)\n",
    "\n",
    "    # Pedimos a distancia por teclado\n",
    "    d = float(input('Onde anda o obxectivo? '))\n",
    "\n",
    "    # Iteramos ata atopar unha solucion\n",
    "    while abs(d1 - d) / d > rel_tol:\n",
    "        v0, d0, v1, d1 = bissection(v0, d0, v1, d1, angulo, d)\n",
    "    \n",
    "    # A imprimimos\n",
    "    print('v = {} m/s -> d = {} m'.format(v1, d1))"
   ]
  },
  {
   "cell_type": "markdown",
   "metadata": {},
   "source": [
    "Por tanto temos dúas funcións que debemos implementar:\n",
    "\n",
    "* `init()`\n",
    "* `bissection`\n",
    "\n",
    "Non cabe a menor duda de que `init()` vai ser a mais sixela."
   ]
  },
  {
   "cell_type": "markdown",
   "metadata": {},
   "source": [
    "### init()"
   ]
  },
  {
   "cell_type": "code",
   "execution_count": 3,
   "metadata": {},
   "outputs": [],
   "source": [
    "def init(angulo):\n",
    "    # O primeiro tiro pode ir a ningures\n",
    "    v0, d0 = 0.0, 0.0\n",
    "    # E o segundo tiro, por exemplo a 1 m/s\n",
    "    v1 = 1.0\n",
    "    d1 = tiro(angulo, v1)\n",
    "    \n",
    "    return v0, d0, v1, d1"
   ]
  },
  {
   "cell_type": "markdown",
   "metadata": {},
   "source": [
    "a nosa nova función require dunha función, `turo()` que faga de solver para un determinado tiro parabólico. Pode ser discutible se á mais complexa que `bissection`, pero, en principio, parece valer."
   ]
  },
  {
   "cell_type": "markdown",
   "metadata": {},
   "source": [
    "### tiro()"
   ]
  },
  {
   "cell_type": "code",
   "execution_count": 4,
   "metadata": {},
   "outputs": [],
   "source": [
    "def tiro(angulo, v):\n",
    "    # O primeiro é obte-las compoñentes x e y da velocidade\n",
    "    vx, vy = v * math.cos(angulo), v * math.sin(angulo)\n",
    "\n",
    "    # Con esto pódese sacar o tiempo de vó\n",
    "    t = 2 * vy / G\n",
    "\n",
    "    # E o alcance\n",
    "    return vx * t"
   ]
  },
  {
   "cell_type": "markdown",
   "metadata": {},
   "source": [
    "### bissection()"
   ]
  },
  {
   "cell_type": "code",
   "execution_count": 5,
   "metadata": {},
   "outputs": [],
   "source": [
    "def bissection(x_a, f_a, x_b, f_b, angulo, f):\n",
    "    # Reordenamos se e necesario\n",
    "    if f_a > f_b:\n",
    "        x_a, f_a, x_b, f_b = x_b, f_b, x_a, f_a\n",
    "    \n",
    "    # Obtnemos unha nova aproximación para a velocidade\n",
    "    if f_a < f < f_b:\n",
    "        x_c = 0.5 * (x_a + x_b)\n",
    "    else:\n",
    "        x_c = 2.0 * x_b\n",
    "    \n",
    "    # E o alcance correspodente\n",
    "    f_c = tiro(angulo, x_c)\n",
    "\n",
    "    # E comprobamos en que subintervalo está\n",
    "    if f_c > f:\n",
    "        return x_a, f_a, x_c, f_c\n",
    "    return x_b, f_b, x_c, f_c"
   ]
  },
  {
   "cell_type": "markdown",
   "metadata": {},
   "source": [
    "## Disparamos!"
   ]
  },
  {
   "cell_type": "code",
   "execution_count": 6,
   "metadata": {},
   "outputs": [
    {
     "name": "stdout",
     "output_type": "stream",
     "text": [
      "Onde anda o obxectivo? 5\n",
      "v = 7.00390625 m/s -> d = 5.000479384178294 m\n"
     ]
    }
   ],
   "source": [
    "main()"
   ]
  },
  {
   "cell_type": "markdown",
   "metadata": {},
   "source": [
    "---"
   ]
  },
  {
   "cell_type": "markdown",
   "metadata": {},
   "source": [
    "_Nesta clase temos visto cómo crear funcións que encapsulen tarefas do noso programa e as aplicamos para respondernos certas cuestións sixelas._\n",
    "\n",
    "**Referencias**\n",
    "\n",
    "* Libro \"Learn Python the Hard Way\" http://learnpythonthehardway.org/book/\n",
    "* Python Tutor, para visualizar código Python paso a paso http://pythontutor.com/\n",
    "* Libro \"How To Think Like a Computer Scientist\" http://interactivepython.org/runestone/static/thinkcspy/toc.html\n",
    "* Project Euler: ejercicios para aprender Python https://projecteuler.net/problems\n",
    "* Python Challenge (!) http://www.pythonchallenge.com/"
   ]
  },
  {
   "cell_type": "markdown",
   "metadata": {},
   "source": [
    "---\n",
    "Este Tutorial está baseado no feito polo grupo de __Aeropython__\n",
    "\n",
    "#### <h7 align=\"right\">¡Ségeos en Twitter!\n",
    "<br/>\n",
    "###### <a href=\"https://twitter.com/AeroPython\" class=\"twitter-follow-button\" data-show-count=\"false\">Follow @AeroPython</a> <script>!function(d,s,id){var js,fjs=d.getElementsByTagName(s)[0],p=/^http:/.test(d.location)?'http':'https';if(!d.getElementById(id)){js=d.createElement(s);js.id=id;js.src=p+'://platform.twitter.com/widgets.js';fjs.parentNode.insertBefore(js,fjs);}}(document, 'script', 'twitter-wjs');</script> \n",
    "<br/>\n",
    "###### O notebook orixinal foi realizado por: Juan Luis Cano, Mabel Delgado y Álex Sáez \n",
    "<br/>\n",
    "##### <a rel=\"license\" href=\"http://creativecommons.org/licenses/by/4.0/deed.es\"><img alt=\"Licencia Creative Commons\" style=\"border-width:0\" src=\"http://i.creativecommons.org/l/by/4.0/88x31.png\" /></a><br /><span xmlns:dct=\"http://purl.org/dc/terms/\" property=\"dct:title\">Curso AeroPython</span> por <span xmlns:cc=\"http://creativecommons.org/ns#\" property=\"cc:attributionName\">Juan Luis Cano Rodriguez y Alejandro Sáez Mollejo</span> e distribúese baixo unha <a rel=\"license\" href=\"http://creativecommons.org/licenses/by/4.0/deed.es\">Licenza Creative Commons Atribución 4.0 Internacional</a>."
   ]
  },
  {
   "cell_type": "markdown",
   "metadata": {},
   "source": [
    "_As seguintes celas conteñen a configuración do Notebook_\n",
    "\n",
    "_Para visualizalas e usar os enlaces a Twitter e notebook debe executarse coma [seguro](http://ipython.org/ipython-doc/dev/notebook/security.html)_\n",
    "\n",
    "    File > Trusted Notebookr los enlaces a Twitter el notebook debe ejecutarse como [seguro](http://ipython.org/ipython-doc/dev/notebook/security.html)_\n",
    "\n",
    "    File > Trusted Notebook"
   ]
  },
  {
   "cell_type": "code",
   "execution_count": 7,
   "metadata": {},
   "outputs": [
    {
     "ename": "FileNotFoundError",
     "evalue": "[Errno 2] No such file or directory: '../styles/aeropython.css'",
     "output_type": "error",
     "traceback": [
      "\u001b[0;31m---------------------------------------------------------------------------\u001b[0m",
      "\u001b[0;31mFileNotFoundError\u001b[0m                         Traceback (most recent call last)",
      "Input \u001b[0;32mIn [7]\u001b[0m, in \u001b[0;36m<cell line: 4>\u001b[0;34m()\u001b[0m\n\u001b[1;32m      2\u001b[0m \u001b[38;5;28;01mfrom\u001b[39;00m \u001b[38;5;21;01mIPython\u001b[39;00m\u001b[38;5;21;01m.\u001b[39;00m\u001b[38;5;21;01mcore\u001b[39;00m\u001b[38;5;21;01m.\u001b[39;00m\u001b[38;5;21;01mdisplay\u001b[39;00m \u001b[38;5;28;01mimport\u001b[39;00m HTML\n\u001b[1;32m      3\u001b[0m css_file \u001b[38;5;241m=\u001b[39m \u001b[38;5;124m'\u001b[39m\u001b[38;5;124m../styles/aeropython.css\u001b[39m\u001b[38;5;124m'\u001b[39m\n\u001b[0;32m----> 4\u001b[0m HTML(\u001b[38;5;28;43mopen\u001b[39;49m\u001b[43m(\u001b[49m\u001b[43mcss_file\u001b[49m\u001b[43m,\u001b[49m\u001b[43m \u001b[49m\u001b[38;5;124;43m\"\u001b[39;49m\u001b[38;5;124;43mr\u001b[39;49m\u001b[38;5;124;43m\"\u001b[39;49m\u001b[43m)\u001b[49m\u001b[38;5;241m.\u001b[39mread())\n",
      "\u001b[0;31mFileNotFoundError\u001b[0m: [Errno 2] No such file or directory: '../styles/aeropython.css'"
     ]
    }
   ],
   "source": [
    "# Esta cela da o estilo ó notebook\n",
    "from IPython.core.display import HTML\n",
    "css_file = '../styles/aeropython.css'\n",
    "HTML(open(css_file, \"r\").read())"
   ]
  },
  {
   "cell_type": "code",
   "execution_count": null,
   "metadata": {},
   "outputs": [],
   "source": []
  }
 ],
 "metadata": {
  "anaconda-cloud": {},
  "kernelspec": {
   "display_name": "Python 3 (ipykernel)",
   "language": "python",
   "name": "python3"
  },
  "language_info": {
   "codemirror_mode": {
    "name": "ipython",
    "version": 3
   },
   "file_extension": ".py",
   "mimetype": "text/x-python",
   "name": "python",
   "nbconvert_exporter": "python",
   "pygments_lexer": "ipython3",
   "version": "3.10.2"
  }
 },
 "nbformat": 4,
 "nbformat_minor": 1
}
