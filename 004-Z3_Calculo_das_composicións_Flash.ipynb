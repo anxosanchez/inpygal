{
 "cells": [
  {
   "cell_type": "markdown",
   "metadata": {},
   "source": [
    "# Evaporación Flash\n",
    "\n",
    "Os cálculos da evaporación flash fanse para calcular a temperatura ou presión á cabeza dunha columna de destilación, ou cicais as condicións da alimentación se se quee unha separación determinada. O sistema pódese resolver mediante unha aproximación polo método de Newton.\n",
    "\n",
    "En esencia, trátase de buscar as raíce da ecuación do equilibrio flash:\n",
    "  \n",
    "$f(\\alpha) = \\sum \\frac { \\left( 1 – K_{i} \\right) } { \\left( 1 + \\alpha \\left( K_{i} – 1 \\right) \\right)}$\n",
    "  \n",
    "a unhas presión e temperatura determinadas.\n",
    "\n",
    "$Ki = \\frac {y_i} {x_i} $\n",
    "  \n",
    "é a constant de equilibrium do componente $i$ (adimensional)  \n",
    "Tamén, supondremos que $K$ non é función da composición (para este problema), inda que o é, pero o obviaremos…  \n",
    "$y_i$ e a fracción molar do compoñente $i$ na fase vapor (adimensionl)  \n",
    "$x_i$ é a fracción molar do compoñente $i$ na fase líquida (adimensionl)  \n",
    "$z_i$ é a fracción molar do compoñente $i$ na alimentación (adimensional) \n",
    "$\\alpha$ é a fracción da alimentación que se vaporiza (é a $\\beta$ no artigu da wikipedia sobre ‘flash evaporation’)  \n",
    "\n",
    "Datos:  \n",
    "$K_{propano}$ = 4.2  \n",
    "$K_{butano}$  = 1.75  \n",
    "$K_{pentano}$ = 0.74  \n",
    "$K_{hexano}$  = 0.34  \n",
    "  \n",
    "A temperatura e presión permenecen constantes."
   ]
  },
  {
   "cell_type": "code",
   "execution_count": 11,
   "metadata": {},
   "outputs": [],
   "source": [
    "import scipy as sp\n",
    "from scipy.optimize import fsolve"
   ]
  },
  {
   "cell_type": "code",
   "execution_count": 12,
   "metadata": {},
   "outputs": [],
   "source": [
    "k_propano = 4.2\n",
    "k_butano = 1.75\n",
    "k_pentano = 0.74\n",
    "k_hexano = 0.34\n",
    "z_propano = 0.1\n",
    "z_butano = 0.2\n",
    "z_pentano = 0.3\n",
    "z_hexano = 0.4\n",
    "alfa_comenzo = 0.3\n",
    "x_total = 0.0\n",
    "x = []\n",
    "\n",
    "nomes = ['propano', 'butano', 'pentano', 'hexano']"
   ]
  },
  {
   "cell_type": "code",
   "execution_count": 13,
   "metadata": {},
   "outputs": [],
   "source": [
    "K = sp.array([k_propano, k_butano, k_pentano, k_hexano], dtype = float)\n",
    "z = sp.array([z_propano, z_butano, z_pentano, z_hexano], dtype = float)"
   ]
  },
  {
   "cell_type": "code",
   "execution_count": 14,
   "metadata": {},
   "outputs": [],
   "source": [
    "def flash(alfa):\n",
    "    propano = z_propano*(k_propano - 1.0)/(1.0 + alfa*(k_propano - 1.0))\n",
    "    butano = z_butano*(k_butano - 1.0)/(1.0 + alfa*(k_butano - 1.0))\n",
    "    pentano = z_pentano*(k_pentano - 1.0)/(1.0 + alfa*(k_pentano - 1.0))\n",
    "    hexano = z_hexano*(k_hexano - 1.0)/(1.0 + alfa*(k_hexano - 1.0))\n",
    "\n",
    "    return (propano + butano + pentano + hexano)"
   ]
  },
  {
   "cell_type": "code",
   "execution_count": 15,
   "metadata": {},
   "outputs": [
    {
     "name": "stdout",
     "output_type": "stream",
     "text": [
      "alfa = [0.12188396]\n"
     ]
    }
   ],
   "source": [
    "# Resolución da ecuación:\n",
    "alfa_solucion = fsolve(flash, alfa_comenzo)\n",
    "print('alfa =', alfa_solucion)"
   ]
  },
  {
   "cell_type": "code",
   "execution_count": 16,
   "metadata": {},
   "outputs": [
    {
     "name": "stdout",
     "output_type": "stream",
     "text": [
      "propano = [0.07194096]\n",
      "butano = [0.18324869]\n",
      "pentano = [0.30981808]\n",
      "hexano = [0.43499226]\n"
     ]
    }
   ],
   "source": [
    "# Cálculo da composición do líquido\n",
    "# A suma de fracción molares debe ser 1.0\n",
    "for i in range(len(K)):\n",
    "    x.append(z[i] / (1.0 + alfa_solucion*(K[i]- 1.0)))\n",
    "    print(nomes[i], '=', x[i])"
   ]
  },
  {
   "cell_type": "code",
   "execution_count": 17,
   "metadata": {},
   "outputs": [
    {
     "name": "stdout",
     "output_type": "stream",
     "text": [
      "[1.]\n"
     ]
    }
   ],
   "source": [
    "print(x[0] + x[1] + x[2] + x[3])"
   ]
  },
  {
   "cell_type": "code",
   "execution_count": null,
   "metadata": {},
   "outputs": [],
   "source": [
    "# Esta cela da o estilo ó notebook\n",
    "from IPython.core.display import HTML\n",
    "css_file = '../styles/aeropython.css'\n",
    "HTML(open(css_file, \"r\").read())"
   ]
  },
  {
   "cell_type": "code",
   "execution_count": null,
   "metadata": {},
   "outputs": [],
   "source": []
  },
  {
   "cell_type": "code",
   "execution_count": null,
   "metadata": {},
   "outputs": [],
   "source": []
  }
 ],
 "metadata": {
  "kernelspec": {
   "display_name": "Python 3",
   "language": "python",
   "name": "python3"
  },
  "language_info": {
   "codemirror_mode": {
    "name": "ipython",
    "version": 3
   },
   "file_extension": ".py",
   "mimetype": "text/x-python",
   "name": "python",
   "nbconvert_exporter": "python",
   "pygments_lexer": "ipython3",
   "version": "3.8.1"
  }
 },
 "nbformat": 4,
 "nbformat_minor": 4
}
