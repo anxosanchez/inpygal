{
 "cells": [
  {
   "cell_type": "markdown",
   "metadata": {},
   "source": [
    "004_Z2_Caso_Práctico_1_Cálculo_do_Volume_Específico_do_butano_mediante_diferentes_EOS"
   ]
  },
  {
   "cell_type": "markdown",
   "metadata": {},
   "source": [
    "# Cálculo do volume específico mediante ecuacións de estado.\n",
    "En principio imos aplcar literalmente á fórmula para resolver este problema. En primeiro lugar definimo-la función Redlich-Kwong:"
   ]
  },
  {
   "cell_type": "code",
   "execution_count": 1,
   "metadata": {},
   "outputs": [],
   "source": [
    "# n-butano Redlich-Kwong\n",
    "def specvolRK(v):\n",
    "    # en K, atm, l/gmol # para o n-butane\n",
    "    Tc = 425.2   # temperatura crítica do n-butano \n",
    "    pc = 37.5    # presión crítica do n-butano\n",
    "    T = 393.3    # temperatura\n",
    "    p = 16.6     # presión\n",
    "    R = 0.08206  # Constalte dos gases ideais atm * L / ( mol * K ) \n",
    "    aRK = 0.42748 * (R * Tc) ** 2 / pc\n",
    "    aRK = aRK * (Tc / T) ** 0.5\n",
    "    bRK = 0.08664 * (R * Tc / pc)\n",
    "    return p * v ** 3 - R * T * v ** 2 + (aRK - p * bRK ** 2 - R * T * bRK) * v - aRK * bRK"
   ]
  },
  {
   "cell_type": "code",
   "execution_count": 2,
   "metadata": {},
   "outputs": [
    {
     "name": "stdout",
     "output_type": "stream",
     "text": [
      "Valor da función para v = 2 25.980819086248843\n"
     ]
    }
   ],
   "source": [
    "print('Valor da función para v = 2', specvolRK(2))"
   ]
  },
  {
   "cell_type": "code",
   "execution_count": 3,
   "metadata": {},
   "outputs": [
    {
     "name": "stdout",
     "output_type": "stream",
     "text": [
      "O volume molar do n-butano a 393.3 K e 16.6 atm é  [1.5064126]\n"
     ]
    }
   ],
   "source": [
    "import numpy as np\n",
    "from scipy.optimize import fsolve\n",
    "v = fsolve(specvolRK,2)\n",
    "print('O volume molar do n-butano a 393.3 K e 16.6 atm é ', v)"
   ]
  },
  {
   "cell_type": "markdown",
   "metadata": {},
   "source": [
    "Pódese sofisticar un pouco mais o código e facer a función para que permita barrer un campo de presións para podermos obervar o tango no que o gas compórtse como ideal. Para elo, teríamos que defini-la función con dous parámetros _v_ e _p_. Esto faise non fixando o valor de _p_ dentro do código da función e deixando _p_ como parámetro de entrada:"
   ]
  },
  {
   "cell_type": "code",
   "execution_count": 4,
   "metadata": {},
   "outputs": [],
   "source": [
    "# n-butane Redlich-Kwong para varios valores da presión\n",
    "def specvol_p_RK(v, p):\n",
    "    # en K, atm, l/gmol # para o n-butane\n",
    "    Tc  = 425.2\n",
    "    pc  = 37.5\n",
    "    T   = 393.3\n",
    "    R   = 0.08206\n",
    "    aRK = 0.42748 * (R * Tc) ** 2 / pc\n",
    "    aRK = aRK * (Tc / T) ** 0.5\n",
    "    bRK = 0.08664 * (R * Tc / pc)\n",
    "    return p * v ** 3 - R * T * v ** 2 + (aRK - p * bRK ** 2 - R * T * bRK) * v - aRK * bRK"
   ]
  },
  {
   "cell_type": "markdown",
   "metadata": {},
   "source": [
    "Para poder representar un rango de presións, recorremos a __matplotlib__:"
   ]
  },
  {
   "cell_type": "code",
   "execution_count": 5,
   "metadata": {},
   "outputs": [],
   "source": [
    "import matplotlib.pyplot as plt\n",
    "%matplotlib inline"
   ]
  },
  {
   "cell_type": "code",
   "execution_count": 6,
   "metadata": {},
   "outputs": [],
   "source": [
    "#Constantes\n",
    "T = 393.3\n",
    "R = 0.08206"
   ]
  },
  {
   "cell_type": "markdown",
   "metadata": {},
   "source": [
    "Creamos un array co rango de presións que desexamos estudar:"
   ]
  },
  {
   "cell_type": "code",
   "execution_count": 7,
   "metadata": {},
   "outputs": [
    {
     "name": "stdout",
     "output_type": "stream",
     "text": [
      "[ 1  6 11 16 21 26]\n"
     ]
    }
   ],
   "source": [
    "presions = np.arange(1, 27, 5)\n",
    "print(presions)"
   ]
  },
  {
   "cell_type": "markdown",
   "metadata": {},
   "source": [
    "Creamos un array con ceros para recoller os resultados de cada cálculo"
   ]
  },
  {
   "cell_type": "code",
   "execution_count": 8,
   "metadata": {},
   "outputs": [],
   "source": [
    "zcompRK = np.zeros(6,dtype=float)"
   ]
  },
  {
   "cell_type": "markdown",
   "metadata": {},
   "source": [
    "Cargamos os resultados mediante un lazo _for_"
   ]
  },
  {
   "cell_type": "code",
   "execution_count": 9,
   "metadata": {},
   "outputs": [],
   "source": [
    "for i in range(0, 6, 1):\n",
    "    p = presions[i]\n",
    "    suposto = R*T/p\n",
    "    v = fsolve(specvol_p_RK, suposto, p) \n",
    "    z = p * v / (R * T)\n",
    "    zcompRK[i] = z"
   ]
  },
  {
   "cell_type": "markdown",
   "metadata": {},
   "source": [
    "E finalmente representamos os resultados coma no __MATLAB__:"
   ]
  },
  {
   "cell_type": "code",
   "execution_count": 10,
   "metadata": {},
   "outputs": [
    {
     "data": {
      "text/plain": [
       "Text(0, 0.5, 'Z (factor de compresibilidade)')"
      ]
     },
     "execution_count": 10,
     "metadata": {},
     "output_type": "execute_result"
    },
    {
     "data": {
      "image/png": "[encoded data removed]",
      "text/plain": [
       "<Figure size 432x288 with 1 Axes>"
      ]
     },
     "metadata": {
      "needs_background": "light"
     },
     "output_type": "display_data"
    }
   ],
   "source": [
    "plt.plot (presions,zcompRK,'o-b')\n",
    "#plt.legend()\n",
    "plt.xlabel('Presión (atm)') \n",
    "plt.ylabel('Z (factor de compresibilidade)')\n",
    "#plt.title ('n-butano')\n",
    "#plt . show()"
   ]
  },
  {
   "cell_type": "markdown",
   "metadata": {},
   "source": [
    "Podemos facer o mesmo para outras ecuacións de estado:"
   ]
  },
  {
   "cell_type": "markdown",
   "metadata": {},
   "source": [
    "## n-butano por Redlich-Kwong-Soave\n",
    "def specvolRKS(v, p):\n",
    "    # in K, atm, l/gmol\n",
    "    # for n-butane\n",
    "    Tc = 425.2\n",
    "    pc = 37.5\n",
    "    T = 500\n",
    "    R = 0.08206\n",
    "    acentric = 0.193\n",
    "    mRKS = 0.480 + (1.574 - 0.176*acentric)*acentric\n",
    "    alphaRKS = (1 + mRKS *(1-(T/Tc)**0.5)) ** 2\n",
    "    aRKS = 0.42748 * alphaRKS * (R * Tc) ** 2 / pc\n",
    "    bRKS = 0.08664 * (R * Tc / pc)\n",
    "    return p * v ** 3 - R * T * v ** 2 + (aRKS - p * bRKS ** 2 - R * T * bRKS) * v - aRKS * bRKS\n",
    "\n",
    "# n-butano Peng-Robinson\n",
    "def specvolPR(v, p):\n",
    "    # in K, atm, l/gmol\n",
    "    # for n-butane\n",
    "    Tc = 425.2\n",
    "    pc = 37.5\n",
    "    T = 500\n",
    "    R = 0.08206\n",
    "    acentric = 0.193\n",
    "    mPR = 0.37363 + (1.54226 - 0.26992*acentric)*acentric\n",
    "    alphaPR = (1 + mPR *(1-(T/Tc)**0.5)) ** 2\n",
    "    aPR = 0.45724 * alphaPR * (R * Tc) ** 2 / pc\n",
    "    bPR = 0.07780 * (R * Tc / pc)\n",
    "    return p*v**3+(bPR*p - R*T)*v**2+(aPR -2*p*bPR**2 - R*T*bPR)*v +(p*bPR**3 + R*T*bPR**2-aPR*bPR)\n"
   ]
  },
  {
   "cell_type": "markdown",
   "metadata": {},
   "source": [
    "Preparamos os arrays para recoller os resultados e face-la representación:"
   ]
  },
  {
   "cell_type": "code",
   "execution_count": 19,
   "metadata": {},
   "outputs": [
    {
     "name": "stdout",
     "output_type": "stream",
     "text": [
      "[ 1  6 11 16 21 26]\n",
      "[0. 0. 0. 0. 0. 0.]\n",
      "[0. 0. 0. 0. 0. 0.]\n",
      "[0. 0. 0. 0. 0. 0.]\n"
     ]
    }
   ],
   "source": [
    "T = 500\n",
    "R = 0.08206\n",
    "presions = np.arange(1, 27, 5)\n",
    "print(presions)\n",
    "zcompRK = np.zeros(6,dtype=float)\n",
    "zcompRKS = np.zeros(6,dtype=float)\n",
    "zcompPR = np.zeros(6,dtype=float)\n",
    "print(zcompRK)\n",
    "print(zcompRKS)\n",
    "print(zcompPR)"
   ]
  },
  {
   "cell_type": "markdown",
   "metadata": {},
   "source": [
    "Cargamos os datos con lazos _for_"
   ]
  },
  {
   "cell_type": "code",
   "execution_count": 20,
   "metadata": {},
   "outputs": [
    {
     "name": "stdout",
     "output_type": "stream",
     "text": [
      "[0.77759704 0.73019319 0.67767812 0.61743563 0.54332296 0.4280701 ]\n",
      "[0.99475754 0.96825897 0.94127257 0.04429298 0.88580942 0.07518276]\n",
      "[0.77468901 0.71061344 0.63551189 0.03549798 0.33776498 0.05672269]\n"
     ]
    },
    {
     "name": "stderr",
     "output_type": "stream",
     "text": [
      "/anaconda3/lib/python3.6/site-packages/scipy/optimize/minpack.py:163: RuntimeWarning: The iteration is not making good progress, as measured by the \n",
      "  improvement from the last ten iterations.\n",
      "  warnings.warn(msg, RuntimeWarning)\n"
     ]
    }
   ],
   "source": [
    "for i in range(0, 6, 1):\n",
    "    p = presions[i]\n",
    "    suposto = R*T/p\n",
    "    v = fsolve(specvol_p_RK, suposto, p)\n",
    "    z = p * v / (R * T)\n",
    "    zcompRK[i] = z\n",
    "    v = fsolve(specvolRKS,v,p)\n",
    "    z = p * v / (R * T)\n",
    "    zcompRKS[i] = z\n",
    "    v = fsolve(specvolPR,v,p)\n",
    "    z = p * v / (R * T)\n",
    "    zcompPR[i] = z\n",
    "\n",
    "print(zcompRK)\n",
    "print(zcompRKS)\n",
    "print(zcompPR)"
   ]
  },
  {
   "cell_type": "markdown",
   "metadata": {},
   "source": [
    "Graficamos:"
   ]
  },
  {
   "cell_type": "code",
   "execution_count": 14,
   "metadata": {},
   "outputs": [
    {
     "data": {
      "text/plain": [
       "Text(0.5,1,'n-butano')"
      ]
     },
     "execution_count": 14,
     "metadata": {},
     "output_type": "execute_result"
    },
    {
     "data": {
      "image/png": "[encoded data removed]",
      "text/plain": [
       "<Figure size 432x288 with 1 Axes>"
      ]
     },
     "metadata": {
      "needs_background": "light"
     },
     "output_type": "display_data"
    }
   ],
   "source": [
    "plt.plot(presions,zcompRK,'o-g',label='Redlich-Kwong')\n",
    "plt.plot(presions,zcompRKS,'x-b',label='Redlich-Kwong-Soave')\n",
    "plt.plot(presions,zcompPR,'s-r',label='Peng-Robinson')\n",
    "plt.legend(loc='best')\n",
    "plt.xlabel('Presión (atm)') \n",
    "plt.ylabel('Z')\n",
    "plt.title ('n-butano')"
   ]
  },
  {
   "cell_type": "code",
   "execution_count": 21,
   "metadata": {},
   "outputs": [
    {
     "data": {
      "text/html": [
       "/* This template is inspired in the one used by Lorena Barba\n",
       "in the numerical-mooc repository: https://github.com/numerical-mooc/numerical-mooc\n",
       "We thank her work and hope you also enjoy the look of the notobooks with this style */\n",
       "\n",
       "<link href='http://fonts.googleapis.com/css?family=Source+Sans+Pro|Josefin+Sans:400,700,400italic|Ubuntu+Condensed' rel='stylesheet' type='text/css'>\n",
       "\n",
       "El estilo se ha aplicado =)\n",
       "\n",
       "<style>\n",
       "\n",
       "\n",
       "\n",
       "#notebook_panel { /* main background */\n",
       "    background: #f7f7f7;\n",
       "}\n",
       "\n",
       "div.cell { /* set cell width */\n",
       "    width: 900px;\n",
       "}\n",
       "\n",
       "div #notebook { /* centre the content */\n",
       "    background: #fff; /* white background for content */\n",
       "    width: 950px;\n",
       "    margin: auto;\n",
       "    padding-left: 0em;\n",
       "}\n",
       "\n",
       "#notebook li { /* More space between bullet points */\n",
       "    margin-top:0.7em;\n",
       "}\n",
       "\n",
       "/* draw border around running cells */\n",
       "div.cell.border-box-sizing.code_cell.running { \n",
       "    border: 1px solid #111;\n",
       "}\n",
       "\n",
       "/* Put a solid color box around each cell and its output, visually linking them*/\n",
       "div.cell.code_cell {\n",
       "    font-family: 'Source Sans Pro', sans-serif;\n",
       "    background-color: rgb(256,256,256);\n",
       "    font-size: 110%;\n",
       "    border-radius: 0px; \n",
       "    padding: 0.5em;\n",
       "    margin-left:1em;\n",
       "    margin-top: 1em;\n",
       "}\n",
       "\n",
       "div.text_cell_render{\n",
       "    font-family: 'Josefin Sans', serif;\n",
       "    line-height: 145%;\n",
       "    font-size: 125%;\n",
       "    font-weight: 500;\n",
       "    width:750px;\n",
       "    margin-left:auto;\n",
       "    margin-right:auto;\n",
       "}\n",
       "\n",
       "\n",
       "/* Formatting for header cells */\n",
       ".text_cell_render h1, .text_cell_render h2, .text_cell_render h3,\n",
       ".text_cell_render h4, .text_cell_render h5 {\n",
       "    font-family: 'Ubuntu Condensed', sans-serif;\n",
       "}\n",
       "/*\n",
       ".text_cell_render h1 {\n",
       "    font-family: Flux, 'Ubuntu Condensed', serif;\n",
       "    font-style:regular;\n",
       "    font-weight: 400;    \n",
       "    font-size: 30pt;\n",
       "    text-align: center;\n",
       "    line-height: 100%;\n",
       "    color: #335082;\n",
       "    margin-bottom: 0.5em;\n",
       "    margin-top: 0.5em;\n",
       "    display: block;\n",
       "}\n",
       "*/\n",
       ".text_cell_render h1 {\n",
       "    font-weight: 600;\n",
       "    font-size: 35pt;\n",
       "    line-height: 100%;\n",
       "    color: #000000;\n",
       "    margin-bottom: 0.1em;\n",
       "    margin-top: 0.3em;\n",
       "    display: block;\n",
       "}\n",
       "\n",
       ".text_cell_render h2 {\n",
       "    margin-top:16px;\n",
       "    font-size: 27pt;\n",
       "    font-weight: 550;\n",
       "    margin-bottom: 0.1em;\n",
       "    margin-top: 0.3em;\n",
       "    font-style: regular;\n",
       "    color: #2c6391;\n",
       "}\t\n",
       "\n",
       ".text_cell_render h3 {\n",
       "    font-size: 20pt;\n",
       "    font-weight: 550\n",
       "    text-align: left;\n",
       "    margin-bottom: 0.1em;\n",
       "    margin-top: 0.3em;\n",
       "    font-style: regular;\n",
       "    color:  #387eb8;\n",
       "}\n",
       "\n",
       ".text_cell_render h4 {    /*Use this for captions*/\n",
       "    font-size: 18pt;\n",
       "    font-weight: 450\n",
       "    text-align: left;\n",
       "    margin-bottom: 0.1em;\n",
       "    margin-top: 0.3em;\n",
       "    font-style: regular;\n",
       "    color:  #5797cc;\n",
       "}\n",
       "\n",
       ".text_cell_render h5 {  /*Use this for small titles*/\n",
       "    font-size: 18pt;\n",
       "    font-weight: 550;\n",
       "    color: rgb(163,0,0);\n",
       "    font-style: italic;\n",
       "    margin-bottom: .1em;\n",
       "    margin-top: 0.8em;\n",
       "    display: block;\n",
       "    color:  #b21c0d;\n",
       "}\n",
       "\n",
       ".text_cell_render h6 { /*use this for copyright note*/\n",
       "    font-family: 'Ubuntu Condensed', sans-serif;\n",
       "    font-weight: 300;\n",
       "    font-size: 14pt;\n",
       "    line-height: 100%;\n",
       "    color: #252525;\n",
       "    text-align: right;\n",
       "    margin-bottom: 1px;\n",
       "    margin-top: 1px;\n",
       "}\n",
       "\n",
       ".CodeMirror{\n",
       "        font-family: 'Duru Sans', sans-serif;\n",
       "        font-size: 100%;\n",
       "}\n",
       "\n",
       "</style>\n",
       "<script>\n",
       "    MathJax.Hub.Config({\n",
       "                        TeX: {\n",
       "                           extensions: [\"AMSmath.js\"],\n",
       "                           equationNumbers: { autoNumber: \"AMS\", useLabelIds: true}\n",
       "                           },\n",
       "                tex2jax: {\n",
       "                    inlineMath: [ ['$','$'], [\"\\\\(\",\"\\\\)\"] ],\n",
       "                    displayMath: [ ['$$','$$'], [\"\\\\[\",\"\\\\]\"] ]\n",
       "                },\n",
       "                displayAlign: 'center', // Change this to 'center' to center equations.\n",
       "                \"HTML-CSS\": {\n",
       "                    styles: {'.MathJax_Display': {\"margin\": 4}}\n",
       "                }\n",
       "        });\n",
       "</script>\n"
      ],
      "text/plain": [
       "<IPython.core.display.HTML object>"
      ]
     },
     "execution_count": 21,
     "metadata": {},
     "output_type": "execute_result"
    }
   ],
   "source": [
    "# Esta cela da o estilo ó notebook\n",
    "from IPython.core.display import HTML\n",
    "css_file = '../styles/aeropython.css'\n",
    "HTML(open(css_file, \"r\").read())"
   ]
  }
 ],
 "metadata": {
  "kernelspec": {
   "display_name": "Python 3",
   "language": "python",
   "name": "python3"
  },
  "language_info": {
   "codemirror_mode": {
    "name": "ipython",
    "version": 3
   },
   "file_extension": ".py",
   "mimetype": "text/x-python",
   "name": "python",
   "nbconvert_exporter": "python",
   "pygments_lexer": "ipython3",
   "version": "3.7.4"
  }
 },
 "nbformat": 4,
 "nbformat_minor": 4
}
