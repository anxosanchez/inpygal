{
 "cells": [
  {
   "cell_type": "markdown",
   "metadata": {},
   "source": [
    "# dEQ\n",
    "DEPARTAMENTO DE ENXEÑARÍA QUÍMICA DA UNIVERSIDADE DE VIGO"
   ]
  },
  {
   "cell_type": "markdown",
   "metadata": {},
   "source": [
    "# Curso Introdutorio de Python"
   ]
  },
  {
   "cell_type": "markdown",
   "metadata": {},
   "source": [
    "O principal obxectivo objetivo dste curso é __iniciarte dende cero na programación en Python e aprender distintas aplicacións de esta linguaxe de programación na exeñaría química.__\n",
    "\n",
    "A nosa ferramenta de traballo fundamental é __[Jupyter Notebook](http://jupyter.org/index.html)__ (as libretas de Jupyter). Podes aprender máis sobre elas nas seguintes clases. Durante o curso familiarizaraste e aprenderás a utilizalas (iste documento foi xerado a partires dunha libreta de notas de [Jupyter](http://jupyter.org/index.html)).\n",
    "\n",
    "Se queres instalar __[Python](https://www.python.org/)__, hay varias formas de facelo a partires de distintas distribucións. A nosa solución por ser bastante universal é usar __[Anaconda](https://continuum.io/anaconda/)__.\n",
    "\n",
    "Este tutorial está baseado no curso de __[AeroPython](https://github.com/AeroPython)__ realizado por __[CACHEME](https://cacheme.org)__.\n",
    "\n",
    "Do repositorio que posúen en [GitHub](https://github.com) podes baixar todo o material do curso, que se atopa dispoñible [en este repositorio](https://github.com/AeroPython/curso_caminos-2016).\n"
   ]
  },
  {
   "cell_type": "markdown",
   "metadata": {},
   "source": [
    "## Pasos a seguir:"
   ]
  },
  {
   "cell_type": "markdown",
   "metadata": {},
   "source": [
    "### 1. Baixarse Anaconda Python."
   ]
  },
  {
   "cell_type": "markdown",
   "metadata": {},
   "source": [
    "A instalación de Python, o Notebook e tódolos pacotes que usaremos por separado pode ser unha tarefa esgotaddora, pero non te preocupes: alguén xa fixo o traballo duro.\n",
    "\n",
    "__[Anaconda](https://continuum.io/anaconda/)__ é unha distribución de Python que recolle moitas das bibliotecas necesarias no campo da computación científica e, por suposto, todo o que necesitamos neste curso. Ademais, inclúe ferramentas para programar en Python, como __[Notebook](https://ipython.org/index.html)__. [Spyder](https://code.google.com/p/spyderlib/)__ (un IDE ó estilo de MATLAB) e [Jupyter Lab](https://github.com/jupyterlab/jupyterlab), que é unha millora e extensión do Notebook.\n",
    "\n",
    "Se usas con frecuencia editores de texto orientados ó desenvolvemento de programas como __[Atom](https://atom.io)__ ou __[Eclipse](https://www.eclipse.org)__ (hai mais), tamén poden servir come IDEs para python."
   ]
  },
  {
   "cell_type": "markdown",
   "metadata": {},
   "source": [
    "O único que tes que facer é:\n",
    "\n",
    "* Ir á [páxina de descargas de Anaconda](http://continuum.io/downloads).\n",
    "* Seleccionar o teu sistema operativo (Windows, OSX, Linux).\n",
    "* Descargar Anaconda (a do Python 3.6 de 32 ou 64 dependendo do teu sistema)."
   ]
  },
  {
   "cell_type": "markdown",
   "metadata": {},
   "source": [
    "<img src=\"../imaxes/baixar_anaconda.png\" alt=\"Baixar\" />"
   ]
  },
  {
   "cell_type": "markdown",
   "metadata": {},
   "source": [
    "### 2. Instalación de Python."
   ]
  },
  {
   "cell_type": "markdown",
   "metadata": {},
   "source": [
    "Consulta as __[instrucións de instalación](https://docs.anaconda.com/anaconda/install/mac-os#macos-graphical-install)__ de Anaconda para o teu sistema operativo. No caso de Windows e OS X, atoparás os típicos instaladores gráficos ós que xa estás feito. Se tes Linux, deberás exectuar o script de instalación dende a consola de comandos (dependendo da distribución de linux que teñas, tes que asignar permisos de ejecución ó script e ter unha shell de bash).\n",
    "\n",
    "No caso de que tiveras cualquera incidencia ou dúbida durante o proceso, lembra que atoparás infinita axuda na __¡rede__.\n",
    "\n",
    "Onde se instala?\n",
    "\n",
    "* En __Windows__, desde `Inicio > Anaconda` hai unha serie de ferramentas das que agora dispós \n",
    "\n",
    "* En __OS X__, dispós dun __launcher__ cas mismas ferramentas ca carpeta `anaconda` dentro do teu directorio persoal. \n",
    "\n",
    "* En __Linux__, debido ó gran número de combinacións de distribucións e escritorios tendrás que buscarte a vida pero as distrubucións hai escritorios que dispoñen de __launchers__ (ou pódelos crear ti mesmo a posteriori, seguindo as indicacións do sistema). En realidade os lanzadores non fan falla e non forman parte da forma de traballar no curso. Sempre se pode lanzar o __Jupyter Notebook__ dende liña de comando.\n",
    "\n",
    "Unha vez istalada a distribucion __Anconda__, convén actualizala para asegurarmos de ter a distribución de __Python__ con tódolos pacotes ó día. Para elo, abrimos uhna __fiestra de comandos__ (símbolo de sistema no Windows ou terminal no OS X) e executamos os seguintes comandos de actualización (confirmando, no caso de teneren que instalar pacotes novos):\n",
    "\n",
    "```\n",
    "conda update anaconda\n",
    "conda update --all\n",
    "```\n",
    "\n",
    "ou\n",
    "\n",
    "```\n",
    "conda update aconda\n",
    "conda update --all\n",
    "```\n",
    "\n",
    "Se ocurre calqueira clase de problema durante este proceso, __[desinstala a distribución de Anaconda](http://docs.anaconda.com/anaconda-repository/2.23/admin/install/?highlight=uninstall)__ e volve a instalarla de novo.\n",
    "\n",
    "Con todo isto xa temos a nosa distribución de __Python__ con tódolos pacotes que se necesitan (e prácticamente tódolos que poidamos necesitar no futuro). "
   ]
  },
  {
   "cell_type": "markdown",
   "metadata": {},
   "source": [
    "### 3. Baixa o material do curso."
   ]
  },
  {
   "cell_type": "markdown",
   "metadata": {},
   "source": [
    "O material do curso orixinal de __CACHEME__ está dispoñible en __GitHub__ (unha plataforma para aloxar proxectos de software que también proporciona unha serie de ferramentas para o traballo en equipo, o que se denomina no mudo informático como forxa (forge). É unha especie de rede social-ferramenta para escribir e compartir código. (Non fai falla saber nada mais sobre ela para o curso)."
   ]
  },
  {
   "cell_type": "markdown",
   "metadata": {},
   "source": [
    "Simplemente vas ó [repositorio de GitHub](https://github.com/AeroPython/curso_caminos-2016), e, na parte dereita atoparás un botón __*Clone or download*__ como iste: ![](../imaxes/download_zip.png) \n",
    "\n",
    "Prémeo, selecciona __*Download Zip*__, __garda o ficheiro__ no teu computador e __descomprímeo__. "
   ]
  },
  {
   "cell_type": "markdown",
   "metadata": {},
   "source": [
    "### 4. Utilización do material do curso."
   ]
  },
  {
   "cell_type": "markdown",
   "metadata": {},
   "source": [
    "Unha vez instalado __Python__  baixado o material do curso, para poder usalo debes __abrir unha liña de comandos na carpeta na que o descompremiche__.\n",
    "\n",
    "* En __Windows__, podes hacer isto deode o __Explorador de Ficheiros__: navegas ata o cartafol e logo usa `shift + clic-dereito` nun espazo valeiro do cartafol ey preme sobre `Abrir ventana de comandos aquí`:\n",
    "\n",
    "![](../imaxes/fiestra_comandos_windows.png)\n",
    "\n",
    "* En __OS X__, podes activar el menú [novo terminal en cartafol](http://appleadicto.com/mac/osx/ejecutar-el-terminal-de-os-x-desde-una-carpeta-del-finder/):\n",
    "![](../imaxes/fiestra_comandos_mac.png)\n",
    "\n",
    "* En __Linux__, a totalidade de escritorios dispoñen dunha opción para lanzar un terminal nun determinado cartafol (por exemplo, o plugin `nautilus-open-terminal` en GNOME ou premendo `F4` dentro de Dolphin en KDE)."
   ]
  },
  {
   "cell_type": "markdown",
   "metadata": {},
   "source": [
    "Abriráse unha liña de comandos. Teclea:\n",
    "\n",
    "`jupyter notebook` \n",
    "\n",
    "e Intro.\n",
    "\n",
    "É importante que a dirección que apareza na liña de comandos sexa a correspondente ó cartafol do curso ou algúns elementos como as imáxes incrustadas non se verán.\n",
    "\n",
    "Aparecerán unahs parrafadas e abriráse o navegador web predefinido.Noe é indispensable dispor de conexión a Internet (pero ...)- O que está ocurrendo é que o navegador está amosando o que manda o programa, que se está executando dende a liña de comandos facedo de servidor web. Isto quere dicir que se pechas a liña de comandos antes de acabar de usar o notebook, matas o proceso e, se nos tes gardado o traballo o perdes."
   ]
  },
  {
   "cell_type": "markdown",
   "metadata": {},
   "source": [
    "A ventá do navegador compórtase coma un xestor de ficheiros, podes moverte polos cartafois e ver os ficheiros con extensión __`.ipynb`__. Vais ó cartafol __`Notebooks`__ e abre a primeira clase faciendo click sobre ela \n",
    "\n",
    "Para cambiar el estilo (letra, cores...) vai a __`File > Trust Notebook`__ (se non o fas non pasa nada masi que o estilo de letra é diferente).\n",
    "\n",
    "Na primera clase faise unha pequena introducción ó __Python__. Le o principio con calma para entender cómo manexar o __Notebook__ (tamén podes usar a axuda __`Help > User Interface Tour`__ ) e no teñas medo de tocar  cambiar cousas."
   ]
  },
  {
   "cell_type": "markdown",
   "metadata": {},
   "source": [
    "---\n",
    "\n",
    "__[CACHEME](http://www.cacheme.org)__ posúe moitos clases grabadas en vídeo, parte dol __[Curso de Python para científicos e ingenieros](http://cacheme.org/curso-online-python-cientifico-ingenieros/)__, grabado na __Escuela Politécnica Superior de la Universidad de Alicante__ está dispoñible en _[YouTube](https://www.youtube.com)__."
   ]
  },
  {
   "cell_type": "code",
   "execution_count": 1,
   "metadata": {},
   "outputs": [
    {
     "data": {
      "image/jpeg": "[encoded data removed]",
      "text/html": [
       "\n",
       "        <iframe\n",
       "            width=\"560\"\n",
       "            height=\"315\"\n",
       "            src=\"https://www.youtube.com/embed/x4xegDME5C0?list=PLGBbVX_WvN7as_DnOGcpkSsUyXB1G_wqb\"\n",
       "            frameborder=\"0\"\n",
       "            allowfullscreen\n",
       "        ></iframe>\n",
       "        "
      ],
      "text/plain": [
       "<IPython.lib.display.YouTubeVideo at 0x256bf95f5e0>"
      ]
     },
     "execution_count": 1,
     "metadata": {},
     "output_type": "execute_result"
    }
   ],
   "source": [
    "from IPython.display import YouTubeVideo\n",
    "\n",
    "YouTubeVideo(\"x4xegDME5C0\", width=560, height=315, list=\"PLGBbVX_WvN7as_DnOGcpkSsUyXB1G_wqb\")"
   ]
  },
  {
   "cell_type": "markdown",
   "metadata": {},
   "source": [
    "---\n",
    "Este Tutorial está baseado no feito polo grupo de __Aeropython__\n",
    "\n",
    "#### <h7 align=\"right\">¡Ségeos en Twitter!\n",
    "<br/>\n",
    "###### <a href=\"https://twitter.com/AeroPython\" class=\"twitter-follow-button\" data-show-count=\"false\">Follow @AeroPython</a> <script>!function(d,s,id){var js,fjs=d.getElementsByTagName(s)[0],p=/^http:/.test(d.location)?'http':'https';if(!d.getElementById(id)){js=d.createElement(s);js.id=id;js.src=p+'://platform.twitter.com/widgets.js';fjs.parentNode.insertBefore(js,fjs);}}(document, 'script', 'twitter-wjs');</script> \n",
    "<br/>\n",
    "###### O notebook orixinal foi realizado por: Juan Luis Cano, Mabel Delgado y Álex Sáez \n",
    "<br/>\n",
    "##### <a rel=\"license\" href=\"http://creativecommons.org/licenses/by/4.0/deed.es\"><img alt=\"Licencia Creative Commons\" style=\"border-width:0\" src=\"http://i.creativecommons.org/l/by/4.0/88x31.png\" /></a><br /><span xmlns:dct=\"http://purl.org/dc/terms/\" property=\"dct:title\">Curso AeroPython</span> por <span xmlns:cc=\"http://creativecommons.org/ns#\" property=\"cc:attributionName\">Juan Luis Cano Rodriguez y Alejandro Sáez Mollejo</span> e distribúese baixo unha <a rel=\"license\" href=\"http://creativecommons.org/licenses/by/4.0/deed.es\">Licenza Creative Commons Atribución 4.0 Internacional</a>."
   ]
  },
  {
   "cell_type": "markdown",
   "metadata": {},
   "source": [
    "---\n",
    "_As seguintes celas conteñen a configuración do Notebook_\n",
    "\n",
    "_Para visualizalas e usar os enlaces a Twitter e notebook debe executarse coma [seguro](http://ipython.org/ipython-doc/dev/notebook/security.html)_\n",
    "\n",
    "    File > Trusted Notebook"
   ]
  },
  {
   "cell_type": "code",
   "execution_count": 4,
   "metadata": {},
   "outputs": [
    {
     "data": {
      "text/html": [
       "/* This template is inspired in the one used by Lorena Barba\n",
       "in the numerical-mooc repository: https://github.com/numerical-mooc/numerical-mooc\n",
       "We thank her work and hope you also enjoy the look of the notobooks with this style */\n",
       "\n",
       "<link href='http://fonts.googleapis.com/css?family=Source+Sans+Pro|Josefin+Sans:400,700,400italic|Ubuntu+Condensed' rel='stylesheet' type='text/css'>\n",
       "\n",
       "El estilo se ha aplicado =)\n",
       "\n",
       "<style>\n",
       "\n",
       "\n",
       "\n",
       "#notebook_panel { /* main background */\n",
       "    background: #f7f7f7;\n",
       "}\n",
       "\n",
       "div.cell { /* set cell width */\n",
       "    width: 900px;\n",
       "}\n",
       "\n",
       "div #notebook { /* centre the content */\n",
       "    background: #fff; /* white background for content */\n",
       "    width: 950px;\n",
       "    margin: auto;\n",
       "    padding-left: 0em;\n",
       "}\n",
       "\n",
       "#notebook li { /* More space between bullet points */\n",
       "    margin-top:0.7em;\n",
       "}\n",
       "\n",
       "/* draw border around running cells */\n",
       "div.cell.border-box-sizing.code_cell.running { \n",
       "    border: 1px solid #111;\n",
       "}\n",
       "\n",
       "/* Put a solid color box around each cell and its output, visually linking them*/\n",
       "div.cell.code_cell {\n",
       "    font-family: 'Source Sans Pro', sans-serif;\n",
       "    background-color: rgb(256,256,256);\n",
       "    font-size: 110%;\n",
       "    border-radius: 0px; \n",
       "    padding: 0.5em;\n",
       "    margin-left:1em;\n",
       "    margin-top: 1em;\n",
       "}\n",
       "\n",
       "div.text_cell_render{\n",
       "    font-family: 'Josefin Sans', serif;\n",
       "    line-height: 145%;\n",
       "    font-size: 125%;\n",
       "    font-weight: 500;\n",
       "    width:750px;\n",
       "    margin-left:auto;\n",
       "    margin-right:auto;\n",
       "}\n",
       "\n",
       "\n",
       "/* Formatting for header cells */\n",
       ".text_cell_render h1, .text_cell_render h2, .text_cell_render h3,\n",
       ".text_cell_render h4, .text_cell_render h5 {\n",
       "    font-family: 'Ubuntu Condensed', sans-serif;\n",
       "}\n",
       "/*\n",
       ".text_cell_render h1 {\n",
       "    font-family: Flux, 'Ubuntu Condensed', serif;\n",
       "    font-style:regular;\n",
       "    font-weight: 400;    \n",
       "    font-size: 30pt;\n",
       "    text-align: center;\n",
       "    line-height: 100%;\n",
       "    color: #335082;\n",
       "    margin-bottom: 0.5em;\n",
       "    margin-top: 0.5em;\n",
       "    display: block;\n",
       "}\n",
       "*/\n",
       ".text_cell_render h1 {\n",
       "    font-weight: 600;\n",
       "    font-size: 35pt;\n",
       "    line-height: 100%;\n",
       "    color: #000000;\n",
       "    margin-bottom: 0.1em;\n",
       "    margin-top: 0.3em;\n",
       "    display: block;\n",
       "}\n",
       "\n",
       ".text_cell_render h2 {\n",
       "    margin-top:16px;\n",
       "    font-size: 27pt;\n",
       "    font-weight: 550;\n",
       "    margin-bottom: 0.1em;\n",
       "    margin-top: 0.3em;\n",
       "    font-style: regular;\n",
       "    color: #2c6391;\n",
       "}\t\n",
       "\n",
       ".text_cell_render h3 {\n",
       "    font-size: 20pt;\n",
       "    font-weight: 550\n",
       "    text-align: left;\n",
       "    margin-bottom: 0.1em;\n",
       "    margin-top: 0.3em;\n",
       "    font-style: regular;\n",
       "    color:  #387eb8;\n",
       "}\n",
       "\n",
       ".text_cell_render h4 {    /*Use this for captions*/\n",
       "    font-size: 18pt;\n",
       "    font-weight: 450\n",
       "    text-align: left;\n",
       "    margin-bottom: 0.1em;\n",
       "    margin-top: 0.3em;\n",
       "    font-style: regular;\n",
       "    color:  #5797cc;\n",
       "}\n",
       "\n",
       ".text_cell_render h5 {  /*Use this for small titles*/\n",
       "    font-size: 18pt;\n",
       "    font-weight: 550;\n",
       "    color: rgb(163,0,0);\n",
       "    font-style: italic;\n",
       "    margin-bottom: .1em;\n",
       "    margin-top: 0.8em;\n",
       "    display: block;\n",
       "    color:  #b21c0d;\n",
       "}\n",
       "\n",
       ".text_cell_render h6 { /*use this for copyright note*/\n",
       "    font-family: 'Ubuntu Condensed', sans-serif;\n",
       "    font-weight: 300;\n",
       "    font-size: 14pt;\n",
       "    line-height: 100%;\n",
       "    color: #252525;\n",
       "    text-align: right;\n",
       "    margin-bottom: 1px;\n",
       "    margin-top: 1px;\n",
       "}\n",
       "\n",
       ".CodeMirror{\n",
       "        font-family: 'Duru Sans', sans-serif;\n",
       "        font-size: 100%;\n",
       "}\n",
       "\n",
       "</style>\n",
       "<script>\n",
       "    MathJax.Hub.Config({\n",
       "                        TeX: {\n",
       "                           extensions: [\"AMSmath.js\"],\n",
       "                           equationNumbers: { autoNumber: \"AMS\", useLabelIds: true}\n",
       "                           },\n",
       "                tex2jax: {\n",
       "                    inlineMath: [ ['$','$'], [\"\\\\(\",\"\\\\)\"] ],\n",
       "                    displayMath: [ ['$$','$$'], [\"\\\\[\",\"\\\\]\"] ]\n",
       "                },\n",
       "                displayAlign: 'center', // Change this to 'center' to center equations.\n",
       "                \"HTML-CSS\": {\n",
       "                    styles: {'.MathJax_Display': {\"margin\": 4}}\n",
       "                }\n",
       "        });\n",
       "</script>\n"
      ],
      "text/plain": [
       "<IPython.core.display.HTML object>"
      ]
     },
     "execution_count": 4,
     "metadata": {},
     "output_type": "execute_result"
    }
   ],
   "source": [
    "# Esta cela da o estilo ó notebook\n",
    "from IPython.core.display import HTML\n",
    "css_file = '../styles/aeropython.css'\n",
    "HTML(open(css_file, \"r\").read())"
   ]
  }
 ],
 "metadata": {
  "anaconda-cloud": {},
  "kernelspec": {
   "display_name": "Python 3",
   "language": "python",
   "name": "python3"
  },
  "language_info": {
   "codemirror_mode": {
    "name": "ipython",
    "version": 3
   },
   "file_extension": ".py",
   "mimetype": "text/x-python",
   "name": "python",
   "nbconvert_exporter": "python",
   "pygments_lexer": "ipython3",
   "version": "3.8.1"
  }
 },
 "nbformat": 4,
 "nbformat_minor": 1
}
