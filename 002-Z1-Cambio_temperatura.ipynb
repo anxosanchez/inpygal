{
 "cells": [
  {
   "cell_type": "markdown",
   "metadata": {},
   "source": [
    "# Problemas de cambio de unidades\n",
    "\n",
    "Unha escala de temperaturas que nunca chegou a ser popular foi a proposta polo químico austríaco Johan Sebastián Farbunglet. Os puntos de referencia desta escala eran 0 °FB (4 °C), a temperatura por debaixo da cal o sabio empezaba a moquear cando refrescaba, e 1000 °FB (98 °C), a temperatura a á que fervela cervexa (que era a súa bebida preferida).\n",
    "1. Obter unha expresión para pasar de graos Celsius a graos Farbunglet* e outra para pasar de graos **Farbunglet a graos Rankine.\n",
    "2. Cál é o intervalo de temperatura de 10 °FB en Celsius, Kelvin, Fahrenheit e Rankine?.\n",
    "3. Fai unha folla de cálculo que faga as conversións do apartado 1.\n",
    "4. Programa unha función en Python que faga o mesmo."
   ]
  },
  {
   "cell_type": "markdown",
   "metadata": {},
   "source": [
    "## Apartado 1.\n",
    "\n",
    "A escala de temperatura **Farblunglet** sería, en relación a Celsius e Farhenheit, como se mostra na seguinte figura:\n",
    "\n",
    "| 1000 ºFB   | 98 ºC\n",
    "|            |\n",
    "|            |\n",
    "|            |\n",
    "|            |\n",
    "| 0 ºFB      | 4 ºC\n",
    "\n",
    "A fórmula de conversión será:\n",
    "  \n",
    "$$\n",
    "\\frac {T_{ºFB} - 0} {1000 - 0} \\equiv \\frac {T_{ºC} -4} {98-4} \\Rightarrow T_{ºFB} = \\frac {1000}{94} \\times \\left ( T_{ºC} - 4 right )   \n",
    "$$\n",
    "  \n",
    "## Apartado 2.  \n",
    "  \n",
    "$$\n",
    "1000 ºFB \\equiv 94 ºC \\Rightarrow 10 ºFB \\equiv 0.94 ºC\n",
    "$$\n",
    "  \n",
    "como:\n",
    "  \n",
    "$$\n",
    "1 ºC \\equiv 1 K \\equiv 1.8 ºF \\equiv 1.8 ºR\n",
    "$$\n",
    "  \n",
    "entón:\n",
    "  \n",
    "$$\n",
    "10 ºFB \\equiv 0.94 ºC \\Rightarrow 10 ºFB \\equiv 1.69 ºF \\equiv 1.69 ºR\n",
    "$$\n"
   ]
  },
  {
   "cell_type": "code",
   "execution_count": 1,
   "metadata": {},
   "outputs": [],
   "source": [
    "def C_a_fb(T):\n",
    "    return 1000/94*(T-4)"
   ]
  },
  {
   "cell_type": "code",
   "execution_count": 2,
   "metadata": {},
   "outputs": [],
   "source": [
    "temperatura_celsius = 25"
   ]
  },
  {
   "cell_type": "code",
   "execution_count": 3,
   "metadata": {},
   "outputs": [
    {
     "name": "stdout",
     "output_type": "stream",
     "text": [
      "25\n"
     ]
    }
   ],
   "source": [
    "print(temperatura_celsius)"
   ]
  },
  {
   "cell_type": "code",
   "execution_count": 4,
   "metadata": {},
   "outputs": [
    {
     "name": "stdout",
     "output_type": "stream",
     "text": [
      "25 graos Celsius equivalen a 223.40 graos Farbunglet\n"
     ]
    }
   ],
   "source": [
    "print('{} graos Celsius equivalen a {:.2f} graos Farbunglet'.format(temperatura_celsius,C_a_fb(temperatura_celsius)))"
   ]
  },
  {
   "cell_type": "code",
   "execution_count": 28,
   "metadata": {},
   "outputs": [],
   "source": [
    "from pint import UnitRegistry\n",
    "ureg = UnitRegistry()\n",
    "ureg.default_format = '.3f'"
   ]
  },
  {
   "cell_type": "code",
   "execution_count": 31,
   "metadata": {},
   "outputs": [],
   "source": [
    "Q_ = ureg.Quantity"
   ]
  },
  {
   "cell_type": "code",
   "execution_count": 36,
   "metadata": {},
   "outputs": [],
   "source": [
    "temp_C = Q_(25.0, ureg.degC)"
   ]
  },
  {
   "cell_type": "code",
   "execution_count": 37,
   "metadata": {},
   "outputs": [
    {
     "name": "stdout",
     "output_type": "stream",
     "text": [
      "536.670 degree_Rankine\n"
     ]
    }
   ],
   "source": [
    "print(temp_C.to('degR'))"
   ]
  },
  {
   "cell_type": "code",
   "execution_count": 38,
   "metadata": {},
   "outputs": [
    {
     "name": "stdout",
     "output_type": "stream",
     "text": [
      "77.000 degree_Fahrenheit\n"
     ]
    }
   ],
   "source": [
    "print(temp_C.to('degF'))"
   ]
  },
  {
   "cell_type": "code",
   "execution_count": 40,
   "metadata": {},
   "outputs": [],
   "source": [
    "incremento_T = 10 * ureg.delta_degC"
   ]
  },
  {
   "cell_type": "code",
   "execution_count": 41,
   "metadata": {},
   "outputs": [
    {
     "name": "stdout",
     "output_type": "stream",
     "text": [
      "18.000 delta_degree_Fahrenheit\n"
     ]
    }
   ],
   "source": [
    "print(incremento_T.to(ureg.delta_degF))"
   ]
  }
 ],
 "metadata": {
  "interpreter": {
   "hash": "e4856955645d2c568136eceaabd9b18b6f60374d1fd8db539a5d03f5ee781a12"
  },
  "kernelspec": {
   "display_name": "Python 3.9.7 ('sopq')",
   "language": "python",
   "name": "python3"
  },
  "language_info": {
   "codemirror_mode": {
    "name": "ipython",
    "version": 3
   },
   "file_extension": ".py",
   "mimetype": "text/x-python",
   "name": "python",
   "nbconvert_exporter": "python",
   "pygments_lexer": "ipython3",
   "version": "3.9.7"
  },
  "orig_nbformat": 4
 },
 "nbformat": 4,
 "nbformat_minor": 2
}
