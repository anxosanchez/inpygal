{
  "cells": [
    {
      "cell_type": "markdown",
      "metadata": {
        "id": "view-in-github",
        "colab_type": "text"
      },
      "source": [
        "<a href=\"https://colab.research.google.com/github/anxosanchez/inpygal/blob/main/Algoritmos_f(x)%3D0.ipynb\" target=\"_parent\"><img src=\"https://colab.research.google.com/assets/colab-badge.svg\" alt=\"Open In Colab\"/></a>"
      ]
    },
    {
      "cell_type": "markdown",
      "id": "463f1b94",
      "metadata": {
        "id": "463f1b94"
      },
      "source": [
        "## Exemplo 1\n",
        "Usar varios métodos numericos para calcular o volumen molar do amoníaco a unha temperatura de 400 K e 12 Mpa de presión. Para este gas, Tc = 406.5 K, e Pc = 11.27 MPa, R = 8.314 cm<sup>3</sup>·MPa·mol<sup>-1</sup>·K<sup>-1</sup>. "
      ]
    },
    {
      "cell_type": "markdown",
      "id": "c81cf3e8",
      "metadata": {
        "id": "c81cf3e8"
      },
      "source": [
        "* Algoritmo de punto fixo\n",
        "* [V_1,V_2] intervalo de búsca\n",
        "* error = tolerancia"
      ]
    },
    {
      "cell_type": "code",
      "execution_count": null,
      "id": "29138822",
      "metadata": {
        "id": "29138822"
      },
      "outputs": [],
      "source": [
        "import numpy as np"
      ]
    },
    {
      "cell_type": "code",
      "execution_count": 1,
      "id": "e282cb73",
      "metadata": {
        "id": "e282cb73"
      },
      "outputs": [],
      "source": [
        "def puntofixo(gV, V_1):\n",
        "    i = 1 # iteración\n",
        "    tolerancia = 0.00001\n",
        "    max_iteracions = 25\n",
        "    V_2 = gV(V_1)\n",
        "    tramo = abs(V_2 - V_1)\n",
        "    while(tramo >= tolerancia and i <= max_iteracions ):\n",
        "        V_1 = V_2\n",
        "        V_2 = gV(V_1)\n",
        "        tramo = abs(V_2 - V_1)\n",
        "        i = i + 1\n",
        "    resposta = V_2\n",
        "    \n",
        "    # Validar resposta\n",
        "    if (i >= max_iteracions):\n",
        "        resposta = np.nan\n",
        "    return(resposta)"
      ]
    },
    {
      "cell_type": "code",
      "execution_count": 2,
      "id": "d51d4792",
      "metadata": {
        "id": "d51d4792"
      },
      "outputs": [],
      "source": [
        "# INGRESO\n",
        "fV = lambda V: ( P + a / V ** 2 ) - R * T / ( V - b )\n",
        "gV = lambda V: b + R * T / ( P + a / V ** 2)"
      ]
    },
    {
      "cell_type": "code",
      "execution_count": 3,
      "id": "008d7709",
      "metadata": {
        "id": "008d7709"
      },
      "outputs": [],
      "source": [
        "# PROGRAMA ---------\n",
        "\n",
        "# DATOS DO PROBLEMA (AMONIACO)\n",
        "nome = 'amoníaco'\n",
        "T = 400    # K\n",
        "P = 12     # MPa\n",
        "Tc = 406.5 # K\n",
        "Pc = 11.27 # MPa\n",
        "R = 8.134  # cm3 MPa / (mol K)\n",
        "a = 27 / 64 * ( R ** 2 * Tc ** 2 / Pc ** 2)\n",
        "b = 1 / 8 * R * Tc / Pc\n"
      ]
    },
    {
      "cell_type": "code",
      "execution_count": 4,
      "id": "bf2eef96",
      "metadata": {
        "colab": {
          "base_uri": "https://localhost:8080/"
        },
        "id": "bf2eef96",
        "outputId": "0bfa18dc-abd9-4d3f-fdc5-b4215fa48b02"
      },
      "outputs": [
        {
          "output_type": "stream",
          "name": "stdout",
          "text": [
            "O volume molar do gas amoníaco é de 298.925 cm3\n"
          ]
        }
      ],
      "source": [
        "# PROCEDEMENTO\n",
        "\n",
        "solucion_puntofixo = puntofixo(gV,1e-10)\n",
        "\n",
        "# SAIDA\n",
        "print('O volume molar do gas {:s} é de {:6.3f} cm3'.format(nome, solucion_puntofixo))"
      ]
    },
    {
      "cell_type": "markdown",
      "id": "a17d077e",
      "metadata": {
        "id": "a17d077e"
      },
      "source": [
        "Algoritmo do método da bisección¶\n",
        "[V_1,V_2] intervalo de búsca\n",
        "error = tolerancia\n",
        "\n",
        "scipy.optimize.bisect\n",
        "scipy.optimize.bisect(f, a, b, args=(), xtol=2e-12, rtol=8.881784197001252e-16, maxiter=100, full_output=False, disp=True)"
      ]
    },
    {
      "cell_type": "code",
      "execution_count": 5,
      "id": "e885fb34",
      "metadata": {
        "id": "e885fb34"
      },
      "outputs": [],
      "source": [
        "def vdW(V):\n",
        "    return ( P + a / V ** 2 ) * ( V - b ) - R * T"
      ]
    },
    {
      "cell_type": "code",
      "execution_count": 6,
      "id": "574c89d0",
      "metadata": {
        "colab": {
          "base_uri": "https://localhost:8080/"
        },
        "id": "574c89d0",
        "outputId": "8fb6664e-4b58-4c00-a34f-3f04442bd794"
      },
      "outputs": [
        {
          "output_type": "stream",
          "name": "stdout",
          "text": [
            "O volume molar do gas ideal amoníaco é de 271.133 cm3\n"
          ]
        }
      ],
      "source": [
        "V_guess = R * T / P\n",
        "print('O volume molar do gas ideal {:s} é de {:6.3f} cm3'.format(nome, V_guess))"
      ]
    },
    {
      "cell_type": "code",
      "execution_count": 7,
      "id": "fbb00441",
      "metadata": {
        "id": "fbb00441"
      },
      "outputs": [],
      "source": [
        "from scipy.optimize import bisect"
      ]
    },
    {
      "cell_type": "code",
      "execution_count": 8,
      "id": "c13ff020",
      "metadata": {
        "id": "c13ff020"
      },
      "outputs": [],
      "source": [
        "solucion_bisect = bisect(vdW,100,300,xtol=1e-6,maxiter=100)"
      ]
    },
    {
      "cell_type": "code",
      "execution_count": 9,
      "id": "94399a99",
      "metadata": {
        "colab": {
          "base_uri": "https://localhost:8080/"
        },
        "id": "94399a99",
        "outputId": "b10efe40-178c-43d8-a575-5c41e7ccb863"
      },
      "outputs": [
        {
          "output_type": "execute_result",
          "data": {
            "text/plain": [
              "298.9253856241703"
            ]
          },
          "metadata": {},
          "execution_count": 9
        }
      ],
      "source": [
        "solucion_bisect"
      ]
    },
    {
      "cell_type": "code",
      "execution_count": 10,
      "id": "6a11e982",
      "metadata": {
        "colab": {
          "base_uri": "https://localhost:8080/"
        },
        "id": "6a11e982",
        "outputId": "c7b8f306-2687-4516-b780-e3c0d7148e3f"
      },
      "outputs": [
        {
          "output_type": "stream",
          "name": "stdout",
          "text": [
            "O volume molar do gas amoníaco é de 298.925386 cm3\n"
          ]
        }
      ],
      "source": [
        "print('O volume molar do gas {:s} é de {:10.6f} cm3'.format(nome, solucion_bisect)) "
      ]
    },
    {
      "cell_type": "markdown",
      "id": "c2ac9373",
      "metadata": {
        "id": "c2ac9373"
      },
      "source": [
        "### Métodos scipy.root_scalar\n",
        "scipy.optimize.root_scalar\n",
        "scipy.optimize.root_scalar(f, args=(), method=None, bracket=None, fprime=None, fprime2=None, x0=None, x1=None, xtol=None, rtol=None, maxiter=None, options=None)[source]¶"
      ]
    },
    {
      "cell_type": "code",
      "execution_count": 11,
      "id": "dbfe7787",
      "metadata": {
        "id": "dbfe7787"
      },
      "outputs": [],
      "source": [
        "from scipy.optimize import root_scalar"
      ]
    },
    {
      "cell_type": "code",
      "execution_count": 12,
      "id": "5e151a16",
      "metadata": {
        "id": "5e151a16"
      },
      "outputs": [],
      "source": [
        "solucion_brentq = root_scalar(vdW, method = 'brentq', bracket = [100,300])"
      ]
    },
    {
      "cell_type": "code",
      "execution_count": 13,
      "id": "13548ca0",
      "metadata": {
        "colab": {
          "base_uri": "https://localhost:8080/"
        },
        "id": "13548ca0",
        "outputId": "0d029fd8-fc3a-4d1a-ff7a-28d480969093"
      },
      "outputs": [
        {
          "output_type": "execute_result",
          "data": {
            "text/plain": [
              "      converged: True\n",
              "           flag: 'converged'\n",
              " function_calls: 5\n",
              "     iterations: 4\n",
              "           root: 298.92538557771263"
            ]
          },
          "metadata": {},
          "execution_count": 13
        }
      ],
      "source": [
        "solucion_brentq"
      ]
    },
    {
      "cell_type": "code",
      "execution_count": 14,
      "id": "fa08ac9b",
      "metadata": {
        "colab": {
          "base_uri": "https://localhost:8080/"
        },
        "id": "fa08ac9b",
        "outputId": "e7121f14-036b-43db-e095-a349ba9ac276"
      },
      "outputs": [
        {
          "output_type": "stream",
          "name": "stdout",
          "text": [
            "O volume molar do gas amoníaco é de 298.925386 cm3\n"
          ]
        }
      ],
      "source": [
        "print('O volume molar do gas {:s} é de {:10.6f} cm3'.format(nome, solucion_brentq.root)) "
      ]
    },
    {
      "cell_type": "code",
      "execution_count": 15,
      "id": "2937beae",
      "metadata": {
        "id": "2937beae"
      },
      "outputs": [],
      "source": [
        "from scipy.optimize import fsolve"
      ]
    },
    {
      "cell_type": "code",
      "execution_count": 16,
      "id": "f93002b8",
      "metadata": {
        "id": "f93002b8"
      },
      "outputs": [],
      "source": [
        "solucion_fsolve = fsolve(vdW,V_guess)"
      ]
    },
    {
      "cell_type": "code",
      "execution_count": 17,
      "id": "98c13196",
      "metadata": {
        "colab": {
          "base_uri": "https://localhost:8080/"
        },
        "id": "98c13196",
        "outputId": "6b122242-b4b4-450e-aa4e-da493612a47f"
      },
      "outputs": [
        {
          "output_type": "execute_result",
          "data": {
            "text/plain": [
              "array([298.92538558])"
            ]
          },
          "metadata": {},
          "execution_count": 17
        }
      ],
      "source": [
        "solucion_fsolve"
      ]
    },
    {
      "cell_type": "code",
      "execution_count": 18,
      "id": "5cdcede2",
      "metadata": {
        "colab": {
          "base_uri": "https://localhost:8080/"
        },
        "id": "5cdcede2",
        "outputId": "b853a8f5-4cde-40e5-ff0b-b700ee51ad86"
      },
      "outputs": [
        {
          "output_type": "stream",
          "name": "stdout",
          "text": [
            "O volume molar do gas amoníaco é de 298.925386 cm3\n"
          ]
        }
      ],
      "source": [
        "# SAIDA\n",
        "print('O volume molar do gas {:s} é de {:10.6f} cm3'.format(nome, solucion_fsolve[0]))"
      ]
    }
  ],
  "metadata": {
    "kernelspec": {
      "display_name": "Python 3 (ipykernel)",
      "language": "python",
      "name": "python3"
    },
    "language_info": {
      "codemirror_mode": {
        "name": "ipython",
        "version": 3
      },
      "file_extension": ".py",
      "mimetype": "text/x-python",
      "name": "python",
      "nbconvert_exporter": "python",
      "pygments_lexer": "ipython3",
      "version": "3.10.2"
    },
    "colab": {
      "name": "Algoritmos_f(x)=0.ipynb",
      "provenance": [],
      "include_colab_link": true
    }
  },
  "nbformat": 4,
  "nbformat_minor": 5
}