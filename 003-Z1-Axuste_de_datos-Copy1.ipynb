{
 "cells": [
  {
   "cell_type": "code",
   "execution_count": null,
   "id": "a1098b20",
   "metadata": {},
   "outputs": [],
   "source": [
    "import numpy as np"
   ]
  },
  {
   "cell_type": "code",
   "execution_count": null,
   "id": "860660b0",
   "metadata": {},
   "outputs": [],
   "source": [
    "datos=open(\"./data/pvdata.csv\")\n",
    "\n",
    "for row in datos:\n",
    "    print(row)"
   ]
  },
  {
   "cell_type": "code",
   "execution_count": null,
   "id": "e84d5037",
   "metadata": {},
   "outputs": [],
   "source": [
    "import pandas as pd"
   ]
  },
  {
   "cell_type": "code",
   "execution_count": null,
   "id": "48db3a13",
   "metadata": {},
   "outputs": [],
   "source": [
    "data=pd.read_csv('./data/pvdata.csv',delimiter=';',decimal=',') "
   ]
  },
  {
   "cell_type": "code",
   "execution_count": null,
   "id": "b12fade1",
   "metadata": {},
   "outputs": [],
   "source": [
    "df = pd.DataFrame(data).to_numpy()"
   ]
  },
  {
   "cell_type": "code",
   "execution_count": null,
   "id": "9e42537d",
   "metadata": {},
   "outputs": [],
   "source": [
    "pv=np.array(df[:,1])\n",
    "T=np.array(df[:,0])"
   ]
  },
  {
   "cell_type": "code",
   "execution_count": null,
   "id": "c5102590",
   "metadata": {},
   "outputs": [],
   "source": [
    "import matplotlib.pyplot as plt\n",
    "%matplotlib inline"
   ]
  },
  {
   "cell_type": "code",
   "execution_count": null,
   "id": "f298228a",
   "metadata": {},
   "outputs": [],
   "source": [
    "plt.plot(T,pv,'b*')"
   ]
  },
  {
   "cell_type": "code",
   "execution_count": null,
   "id": "f6983f54",
   "metadata": {},
   "outputs": [],
   "source": [
    "axus=np.polyfit(T,pv,deg=4)"
   ]
  },
  {
   "cell_type": "code",
   "execution_count": null,
   "id": "8d4cd609",
   "metadata": {},
   "outputs": [],
   "source": [
    "x_axus = np.linspace(325,405,num=100)"
   ]
  },
  {
   "cell_type": "code",
   "execution_count": null,
   "id": "bb8062d2",
   "metadata": {},
   "outputs": [],
   "source": [
    "plt.plot(x_axus,np.polyval(axus,x_axus))"
   ]
  },
  {
   "cell_type": "code",
   "execution_count": null,
   "id": "c4f0eff3",
   "metadata": {},
   "outputs": [],
   "source": [
    "plt.plot(T,pv,'db',x_axus,np.polyval(axus,x_axus))\n",
    "plt.ylabel('presión de vapor (bar)')\n",
    "plt.xlabel(r'temperatura $v_r$ ($^\\circ C$)')"
   ]
  },
  {
   "cell_type": "code",
   "execution_count": null,
   "id": "dedd8498",
   "metadata": {},
   "outputs": [],
   "source": [
    "# seleciona esquema de cor\n",
    "plt.style.use('dark_background')\n",
    "\n",
    "fig, ax = plt.subplots(figsize=(15,7))\n",
    "\n",
    "# seleciona cor de fondo\n",
    "bg_color = (0.1,0.1,0.1)\n",
    "ax.set_facecolor(bg_color)\n",
    "\n",
    "plt.plot(T,pv,'*y',label='datos')\n",
    "plt.plot(x_axus,np.polyval(axus,x_axus),'--y', label = 'axuste')\n",
    "plt.ylabel('presión de vapor (bar)')\n",
    "plt.xlabel(r'$v_r$ ($^\\circ C$)')\n",
    "plt.grid(visible=True)\n",
    "# cambia a cor da lenda\n",
    "l = ax.legend(facecolor=(0.9,0.9,0.9))\n",
    "# fixa a cor da lenda\n",
    "for text in l.get_texts():\n",
    "    text.set_color(\"black\")\n",
    "\n",
    "plt.savefig('test.pdf', bbox_inches='tight')"
   ]
  },
  {
   "cell_type": "code",
   "execution_count": null,
   "id": "001251e0",
   "metadata": {},
   "outputs": [],
   "source": [
    "from wand.image import Image as WImage\n",
    "img = WImage(filename='test.pdf')\n",
    "img"
   ]
  },
  {
   "cell_type": "code",
   "execution_count": null,
   "id": "2424dbd0",
   "metadata": {},
   "outputs": [],
   "source": [
    "import py3Dmol\n",
    "view = py3Dmol.view(query='cid:2244')\n",
    "view.setStyle({'stick':{'color':'spectrum'}})\n",
    "view"
   ]
  }
 ],
 "metadata": {
  "kernelspec": {
   "display_name": "Python 3 (ipykernel)",
   "language": "python",
   "name": "python3"
  },
  "language_info": {
   "codemirror_mode": {
    "name": "ipython",
    "version": 3
   },
   "file_extension": ".py",
   "mimetype": "text/x-python",
   "name": "python",
   "nbconvert_exporter": "python",
   "pygments_lexer": "ipython3",
   "version": "3.9.7"
  }
 },
 "nbformat": 4,
 "nbformat_minor": 5
}
